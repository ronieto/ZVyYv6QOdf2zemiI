{
 "cells": [
  {
   "cell_type": "markdown",
   "id": "minute-charlotte",
   "metadata": {},
   "source": [
    "### Starting Challenge"
   ]
  },
  {
   "cell_type": "code",
   "execution_count": 112,
   "id": "amino-spice",
   "metadata": {},
   "outputs": [],
   "source": [
    "## Import basic libs\n",
    "import pandas as pd\n",
    "import numpy as np\n",
    "import matplotlib.pyplot as plt\n",
    "import seaborn as sns"
   ]
  },
  {
   "cell_type": "code",
   "execution_count": 113,
   "id": "gorgeous-restaurant",
   "metadata": {},
   "outputs": [
    {
     "data": {
      "text/html": [
       "<div>\n",
       "<style scoped>\n",
       "    .dataframe tbody tr th:only-of-type {\n",
       "        vertical-align: middle;\n",
       "    }\n",
       "\n",
       "    .dataframe tbody tr th {\n",
       "        vertical-align: top;\n",
       "    }\n",
       "\n",
       "    .dataframe thead th {\n",
       "        text-align: right;\n",
       "    }\n",
       "</style>\n",
       "<table border=\"1\" class=\"dataframe\">\n",
       "  <thead>\n",
       "    <tr style=\"text-align: right;\">\n",
       "      <th></th>\n",
       "      <th>Y</th>\n",
       "      <th>X1</th>\n",
       "      <th>X2</th>\n",
       "      <th>X3</th>\n",
       "      <th>X4</th>\n",
       "      <th>X5</th>\n",
       "      <th>X6</th>\n",
       "    </tr>\n",
       "  </thead>\n",
       "  <tbody>\n",
       "    <tr>\n",
       "      <th>0</th>\n",
       "      <td>0</td>\n",
       "      <td>3</td>\n",
       "      <td>3</td>\n",
       "      <td>3</td>\n",
       "      <td>4</td>\n",
       "      <td>2</td>\n",
       "      <td>4</td>\n",
       "    </tr>\n",
       "    <tr>\n",
       "      <th>1</th>\n",
       "      <td>0</td>\n",
       "      <td>3</td>\n",
       "      <td>2</td>\n",
       "      <td>3</td>\n",
       "      <td>5</td>\n",
       "      <td>4</td>\n",
       "      <td>3</td>\n",
       "    </tr>\n",
       "    <tr>\n",
       "      <th>2</th>\n",
       "      <td>1</td>\n",
       "      <td>5</td>\n",
       "      <td>3</td>\n",
       "      <td>3</td>\n",
       "      <td>3</td>\n",
       "      <td>3</td>\n",
       "      <td>5</td>\n",
       "    </tr>\n",
       "    <tr>\n",
       "      <th>3</th>\n",
       "      <td>0</td>\n",
       "      <td>5</td>\n",
       "      <td>4</td>\n",
       "      <td>3</td>\n",
       "      <td>3</td>\n",
       "      <td>3</td>\n",
       "      <td>5</td>\n",
       "    </tr>\n",
       "    <tr>\n",
       "      <th>4</th>\n",
       "      <td>0</td>\n",
       "      <td>5</td>\n",
       "      <td>4</td>\n",
       "      <td>3</td>\n",
       "      <td>3</td>\n",
       "      <td>3</td>\n",
       "      <td>5</td>\n",
       "    </tr>\n",
       "  </tbody>\n",
       "</table>\n",
       "</div>"
      ],
      "text/plain": [
       "   Y  X1  X2  X3  X4  X5  X6\n",
       "0  0   3   3   3   4   2   4\n",
       "1  0   3   2   3   5   4   3\n",
       "2  1   5   3   3   3   3   5\n",
       "3  0   5   4   3   3   3   5\n",
       "4  0   5   4   3   3   3   5"
      ]
     },
     "execution_count": 113,
     "metadata": {},
     "output_type": "execute_result"
    }
   ],
   "source": [
    "# Get and check database\n",
    "df = pd.read_csv(\"ACME-HappinessSurvey2020.csv\")\n",
    "df.head()"
   ]
  },
  {
   "cell_type": "code",
   "execution_count": 114,
   "id": "threaded-assumption",
   "metadata": {},
   "outputs": [
    {
     "name": "stdout",
     "output_type": "stream",
     "text": [
      "<class 'pandas.core.frame.DataFrame'>\n",
      "RangeIndex: 126 entries, 0 to 125\n",
      "Data columns (total 7 columns):\n",
      " #   Column  Non-Null Count  Dtype\n",
      "---  ------  --------------  -----\n",
      " 0   Y       126 non-null    int64\n",
      " 1   X1      126 non-null    int64\n",
      " 2   X2      126 non-null    int64\n",
      " 3   X3      126 non-null    int64\n",
      " 4   X4      126 non-null    int64\n",
      " 5   X5      126 non-null    int64\n",
      " 6   X6      126 non-null    int64\n",
      "dtypes: int64(7)\n",
      "memory usage: 7.0 KB\n"
     ]
    }
   ],
   "source": [
    "df.info()"
   ]
  },
  {
   "cell_type": "markdown",
   "id": "noticed-image",
   "metadata": {},
   "source": [
    "## EDA\n",
    "#### The exploratory data analysis helps to see get better comprehension"
   ]
  },
  {
   "cell_type": "code",
   "execution_count": 115,
   "id": "suburban-medicine",
   "metadata": {},
   "outputs": [
    {
     "data": {
      "text/plain": [
       "<AxesSubplot:>"
      ]
     },
     "execution_count": 115,
     "metadata": {},
     "output_type": "execute_result"
    },
    {
     "data": {
      "image/png": "[encoded data removed]",
      "text/plain": [
       "<Figure size 432x288 with 1 Axes>"
      ]
     },
     "metadata": {
      "needs_background": "light"
     },
     "output_type": "display_data"
    }
   ],
   "source": [
    "## Lets check the distribution of the target variable\n",
    "df['Y'].hist()"
   ]
  },
  {
   "cell_type": "code",
   "execution_count": 116,
   "id": "another-agent",
   "metadata": {},
   "outputs": [
    {
     "name": "stdout",
     "output_type": "stream",
     "text": [
      "1    69\n",
      "0    57\n",
      "Name: Y, dtype: int64\n"
     ]
    },
    {
     "data": {
      "text/plain": [
       "Y     0\n",
       "X1    0\n",
       "X2    0\n",
       "X3    0\n",
       "X4    0\n",
       "X5    0\n",
       "X6    0\n",
       "dtype: int64"
      ]
     },
     "execution_count": 116,
     "metadata": {},
     "output_type": "execute_result"
    }
   ],
   "source": [
    "## Target column is balanced and have no null values\n",
    "print(df['Y'].value_counts())\n",
    "df.isnull().sum()"
   ]
  },
  {
   "cell_type": "code",
   "execution_count": 117,
   "id": "sweet-taxation",
   "metadata": {},
   "outputs": [
    {
     "data": {
      "text/plain": [
       "<AxesSubplot:>"
      ]
     },
     "execution_count": 117,
     "metadata": {},
     "output_type": "execute_result"
    },
    {
     "data": {
      "image/png": "[encoded data removed]",
      "text/plain": [
       "<Figure size 432x288 with 1 Axes>"
      ]
     },
     "metadata": {
      "needs_background": "light"
     },
     "output_type": "display_data"
    }
   ],
   "source": [
    "## Check values distribution trough columns\n",
    "df.boxplot(column=[\"X1\", \"X2\", \"X3\", \"X4\", \"X5\", \"X6\"])"
   ]
  },
  {
   "cell_type": "code",
   "execution_count": 118,
   "id": "round-upper",
   "metadata": {},
   "outputs": [
    {
     "data": {
      "text/html": [
       "<div>\n",
       "<style scoped>\n",
       "    .dataframe tbody tr th:only-of-type {\n",
       "        vertical-align: middle;\n",
       "    }\n",
       "\n",
       "    .dataframe tbody tr th {\n",
       "        vertical-align: top;\n",
       "    }\n",
       "\n",
       "    .dataframe thead th {\n",
       "        text-align: right;\n",
       "    }\n",
       "</style>\n",
       "<table border=\"1\" class=\"dataframe\">\n",
       "  <thead>\n",
       "    <tr style=\"text-align: right;\">\n",
       "      <th></th>\n",
       "      <th>Y</th>\n",
       "      <th>X1</th>\n",
       "      <th>X2</th>\n",
       "      <th>X3</th>\n",
       "      <th>X4</th>\n",
       "      <th>X5</th>\n",
       "      <th>X6</th>\n",
       "    </tr>\n",
       "  </thead>\n",
       "  <tbody>\n",
       "    <tr>\n",
       "      <th>Y</th>\n",
       "      <td>1.000000</td>\n",
       "      <td>0.280160</td>\n",
       "      <td>-0.024274</td>\n",
       "      <td>0.150838</td>\n",
       "      <td>0.064415</td>\n",
       "      <td>0.224522</td>\n",
       "      <td>0.167669</td>\n",
       "    </tr>\n",
       "    <tr>\n",
       "      <th>X1</th>\n",
       "      <td>0.280160</td>\n",
       "      <td>1.000000</td>\n",
       "      <td>0.059797</td>\n",
       "      <td>0.283358</td>\n",
       "      <td>0.087541</td>\n",
       "      <td>0.432772</td>\n",
       "      <td>0.411873</td>\n",
       "    </tr>\n",
       "    <tr>\n",
       "      <th>X2</th>\n",
       "      <td>-0.024274</td>\n",
       "      <td>0.059797</td>\n",
       "      <td>1.000000</td>\n",
       "      <td>0.184129</td>\n",
       "      <td>0.114838</td>\n",
       "      <td>0.039996</td>\n",
       "      <td>-0.062205</td>\n",
       "    </tr>\n",
       "    <tr>\n",
       "      <th>X3</th>\n",
       "      <td>0.150838</td>\n",
       "      <td>0.283358</td>\n",
       "      <td>0.184129</td>\n",
       "      <td>1.000000</td>\n",
       "      <td>0.302618</td>\n",
       "      <td>0.358397</td>\n",
       "      <td>0.203750</td>\n",
       "    </tr>\n",
       "    <tr>\n",
       "      <th>X4</th>\n",
       "      <td>0.064415</td>\n",
       "      <td>0.087541</td>\n",
       "      <td>0.114838</td>\n",
       "      <td>0.302618</td>\n",
       "      <td>1.000000</td>\n",
       "      <td>0.293115</td>\n",
       "      <td>0.215888</td>\n",
       "    </tr>\n",
       "    <tr>\n",
       "      <th>X5</th>\n",
       "      <td>0.224522</td>\n",
       "      <td>0.432772</td>\n",
       "      <td>0.039996</td>\n",
       "      <td>0.358397</td>\n",
       "      <td>0.293115</td>\n",
       "      <td>1.000000</td>\n",
       "      <td>0.320195</td>\n",
       "    </tr>\n",
       "    <tr>\n",
       "      <th>X6</th>\n",
       "      <td>0.167669</td>\n",
       "      <td>0.411873</td>\n",
       "      <td>-0.062205</td>\n",
       "      <td>0.203750</td>\n",
       "      <td>0.215888</td>\n",
       "      <td>0.320195</td>\n",
       "      <td>1.000000</td>\n",
       "    </tr>\n",
       "  </tbody>\n",
       "</table>\n",
       "</div>"
      ],
      "text/plain": [
       "           Y        X1        X2        X3        X4        X5        X6\n",
       "Y   1.000000  0.280160 -0.024274  0.150838  0.064415  0.224522  0.167669\n",
       "X1  0.280160  1.000000  0.059797  0.283358  0.087541  0.432772  0.411873\n",
       "X2 -0.024274  0.059797  1.000000  0.184129  0.114838  0.039996 -0.062205\n",
       "X3  0.150838  0.283358  0.184129  1.000000  0.302618  0.358397  0.203750\n",
       "X4  0.064415  0.087541  0.114838  0.302618  1.000000  0.293115  0.215888\n",
       "X5  0.224522  0.432772  0.039996  0.358397  0.293115  1.000000  0.320195\n",
       "X6  0.167669  0.411873 -0.062205  0.203750  0.215888  0.320195  1.000000"
      ]
     },
     "execution_count": 118,
     "metadata": {},
     "output_type": "execute_result"
    }
   ],
   "source": [
    "## As we can see, higher values are in X1 and X6 columns, as well as lower values are in X2 column\n",
    "## Lets check Pearson correlation \n",
    "df.corr()"
   ]
  },
  {
   "cell_type": "code",
   "execution_count": 119,
   "id": "exposed-trick",
   "metadata": {},
   "outputs": [
    {
     "data": {
      "text/html": [
       "<div>\n",
       "<style scoped>\n",
       "    .dataframe tbody tr th:only-of-type {\n",
       "        vertical-align: middle;\n",
       "    }\n",
       "\n",
       "    .dataframe tbody tr th {\n",
       "        vertical-align: top;\n",
       "    }\n",
       "\n",
       "    .dataframe thead th {\n",
       "        text-align: right;\n",
       "    }\n",
       "</style>\n",
       "<table border=\"1\" class=\"dataframe\">\n",
       "  <thead>\n",
       "    <tr style=\"text-align: right;\">\n",
       "      <th></th>\n",
       "      <th>Y</th>\n",
       "      <th>X1</th>\n",
       "      <th>X2</th>\n",
       "      <th>X3</th>\n",
       "      <th>X4</th>\n",
       "      <th>X5</th>\n",
       "      <th>X6</th>\n",
       "    </tr>\n",
       "  </thead>\n",
       "  <tbody>\n",
       "    <tr>\n",
       "      <th>count</th>\n",
       "      <td>126.000000</td>\n",
       "      <td>126.000000</td>\n",
       "      <td>126.000000</td>\n",
       "      <td>126.000000</td>\n",
       "      <td>126.000000</td>\n",
       "      <td>126.000000</td>\n",
       "      <td>126.000000</td>\n",
       "    </tr>\n",
       "    <tr>\n",
       "      <th>mean</th>\n",
       "      <td>0.547619</td>\n",
       "      <td>4.333333</td>\n",
       "      <td>2.531746</td>\n",
       "      <td>3.309524</td>\n",
       "      <td>3.746032</td>\n",
       "      <td>3.650794</td>\n",
       "      <td>4.253968</td>\n",
       "    </tr>\n",
       "    <tr>\n",
       "      <th>std</th>\n",
       "      <td>0.499714</td>\n",
       "      <td>0.800000</td>\n",
       "      <td>1.114892</td>\n",
       "      <td>1.023440</td>\n",
       "      <td>0.875776</td>\n",
       "      <td>1.147641</td>\n",
       "      <td>0.809311</td>\n",
       "    </tr>\n",
       "    <tr>\n",
       "      <th>min</th>\n",
       "      <td>0.000000</td>\n",
       "      <td>1.000000</td>\n",
       "      <td>1.000000</td>\n",
       "      <td>1.000000</td>\n",
       "      <td>1.000000</td>\n",
       "      <td>1.000000</td>\n",
       "      <td>1.000000</td>\n",
       "    </tr>\n",
       "    <tr>\n",
       "      <th>25%</th>\n",
       "      <td>0.000000</td>\n",
       "      <td>4.000000</td>\n",
       "      <td>2.000000</td>\n",
       "      <td>3.000000</td>\n",
       "      <td>3.000000</td>\n",
       "      <td>3.000000</td>\n",
       "      <td>4.000000</td>\n",
       "    </tr>\n",
       "    <tr>\n",
       "      <th>50%</th>\n",
       "      <td>1.000000</td>\n",
       "      <td>5.000000</td>\n",
       "      <td>3.000000</td>\n",
       "      <td>3.000000</td>\n",
       "      <td>4.000000</td>\n",
       "      <td>4.000000</td>\n",
       "      <td>4.000000</td>\n",
       "    </tr>\n",
       "    <tr>\n",
       "      <th>75%</th>\n",
       "      <td>1.000000</td>\n",
       "      <td>5.000000</td>\n",
       "      <td>3.000000</td>\n",
       "      <td>4.000000</td>\n",
       "      <td>4.000000</td>\n",
       "      <td>4.000000</td>\n",
       "      <td>5.000000</td>\n",
       "    </tr>\n",
       "    <tr>\n",
       "      <th>max</th>\n",
       "      <td>1.000000</td>\n",
       "      <td>5.000000</td>\n",
       "      <td>5.000000</td>\n",
       "      <td>5.000000</td>\n",
       "      <td>5.000000</td>\n",
       "      <td>5.000000</td>\n",
       "      <td>5.000000</td>\n",
       "    </tr>\n",
       "  </tbody>\n",
       "</table>\n",
       "</div>"
      ],
      "text/plain": [
       "                Y          X1          X2          X3          X4          X5  \\\n",
       "count  126.000000  126.000000  126.000000  126.000000  126.000000  126.000000   \n",
       "mean     0.547619    4.333333    2.531746    3.309524    3.746032    3.650794   \n",
       "std      0.499714    0.800000    1.114892    1.023440    0.875776    1.147641   \n",
       "min      0.000000    1.000000    1.000000    1.000000    1.000000    1.000000   \n",
       "25%      0.000000    4.000000    2.000000    3.000000    3.000000    3.000000   \n",
       "50%      1.000000    5.000000    3.000000    3.000000    4.000000    4.000000   \n",
       "75%      1.000000    5.000000    3.000000    4.000000    4.000000    4.000000   \n",
       "max      1.000000    5.000000    5.000000    5.000000    5.000000    5.000000   \n",
       "\n",
       "               X6  \n",
       "count  126.000000  \n",
       "mean     4.253968  \n",
       "std      0.809311  \n",
       "min      1.000000  \n",
       "25%      4.000000  \n",
       "50%      4.000000  \n",
       "75%      5.000000  \n",
       "max      5.000000  "
      ]
     },
     "execution_count": 119,
     "metadata": {},
     "output_type": "execute_result"
    }
   ],
   "source": [
    "## and check Basic statistics\n",
    "df.describe()"
   ]
  },
  {
   "cell_type": "code",
   "execution_count": 120,
   "id": "julian-reverse",
   "metadata": {},
   "outputs": [
    {
     "data": {
      "text/plain": [
       "<AxesSubplot:>"
      ]
     },
     "execution_count": 120,
     "metadata": {},
     "output_type": "execute_result"
    },
    {
     "data": {
      "image/png": "[encoded data removed]",
      "text/plain": [
       "<Figure size 432x288 with 2 Axes>"
      ]
     },
     "metadata": {
      "needs_background": "light"
     },
     "output_type": "display_data"
    }
   ],
   "source": [
    "## Plot correlation heatmap (coldmap in this case)\n",
    "sns.heatmap(df.corr(),linewidths = .5, annot = True, cmap = 'YlGnBu', square = True)"
   ]
  },
  {
   "cell_type": "code",
   "execution_count": 121,
   "id": "matched-hunter",
   "metadata": {},
   "outputs": [
    {
     "name": "stdout",
     "output_type": "stream",
     "text": [
      "Y  have NO correlation with  X1\n",
      "Y  have NO correlation with  X2\n",
      "Y  have NO correlation with  X3\n",
      "Y  have NO correlation with  X4\n",
      "Y  have NO correlation with  X5\n",
      "Y  have NO correlation with  X6\n",
      "X1  have NO correlation with  Y\n",
      "X1  have NO correlation with  X2\n",
      "X1  have NO correlation with  X3\n",
      "X1  have NO correlation with  X4\n",
      "X1  have LOW correlation  with  X5\n",
      "X1  have LOW correlation  with  X6\n",
      "X2  have NO correlation with  Y\n",
      "X2  have NO correlation with  X1\n",
      "X2  have NO correlation with  X3\n",
      "X2  have NO correlation with  X4\n",
      "X2  have NO correlation with  X5\n",
      "X2  have NO correlation with  X6\n",
      "X3  have NO correlation with  Y\n",
      "X3  have NO correlation with  X1\n",
      "X3  have NO correlation with  X2\n",
      "X3  have LOW correlation  with  X4\n",
      "X3  have LOW correlation  with  X5\n",
      "X3  have NO correlation with  X6\n",
      "X4  have NO correlation with  Y\n",
      "X4  have NO correlation with  X1\n",
      "X4  have NO correlation with  X2\n",
      "X4  have LOW correlation  with  X3\n",
      "X4  have NO correlation with  X5\n",
      "X4  have NO correlation with  X6\n",
      "X5  have NO correlation with  Y\n",
      "X5  have LOW correlation  with  X1\n",
      "X5  have NO correlation with  X2\n",
      "X5  have LOW correlation  with  X3\n",
      "X5  have NO correlation with  X4\n",
      "X5  have LOW correlation  with  X6\n",
      "X6  have NO correlation with  Y\n",
      "X6  have LOW correlation  with  X1\n",
      "X6  have NO correlation with  X2\n",
      "X6  have NO correlation with  X3\n",
      "X6  have NO correlation with  X4\n",
      "X6  have LOW correlation  with  X5\n"
     ]
    }
   ],
   "source": [
    "## Check one-by-one\n",
    "for i in range(0,len(df.columns)):\n",
    "    for j in  range(0,len(df.columns)):\n",
    "        if i!=j:\n",
    "            corr_1=np.abs(df[df.columns[i]].corr(df[df.columns[j]]))\n",
    "            if corr_1 >0.3:\n",
    "                print(df.columns[i] , \" have LOW correlation  with \", df.columns[j])\n",
    "            elif corr_1>0.75:\n",
    "                print( df.columns[i] , \" have HIGH  correlated  with \", df.columns[j])\n",
    "            elif corr_1 < -0.7:\n",
    "                print( df.columns[i] , \" have INVERTED correlation with \", df.columns[j])\n",
    "            else:\n",
    "                print(df.columns[i] , \" have NO correlation with \", df.columns[j])"
   ]
  },
  {
   "cell_type": "markdown",
   "id": "federal-copyright",
   "metadata": {},
   "source": [
    "### The correlation varies between +1 (highly correlated) and -1 (inversely correlated), and is one of the simplest ways to begin to understand how the variables are related to each other. \n",
    "### I prefer building a Correlation Matrix so I can clearly see the variables relationship.\n",
    "### BUT, In cases with low/desprezible correlation (like above), the matrix may not be a good measure. "
   ]
  },
  {
   "cell_type": "markdown",
   "id": "legitimate-reservation",
   "metadata": {},
   "source": [
    "## Let´s compare models and see how accurate they can be:"
   ]
  },
  {
   "cell_type": "code",
   "execution_count": 122,
   "id": "monetary-hampshire",
   "metadata": {},
   "outputs": [],
   "source": [
    "## machine learning Libs\n",
    "from sklearn import preprocessing\n",
    "from sklearn.tree import DecisionTreeClassifier, ExtraTreeClassifier\n",
    "from sklearn.model_selection import train_test_split, KFold, cross_val_score, GridSearchCV\n",
    "from sklearn.ensemble import RandomForestClassifier, AdaBoostClassifier, BaggingClassifier, ExtraTreesClassifier\n",
    "from sklearn.linear_model import LogisticRegression, PassiveAggressiveClassifier, RidgeClassifier, SGDClassifier, Perceptron\n",
    "from sklearn.gaussian_process import GaussianProcessClassifier\n",
    "from sklearn.naive_bayes import BernoulliNB, GaussianNB\n",
    "from sklearn.svm import SVC, NuSVC, LinearSVC\n",
    "from sklearn.neighbors import KNeighborsClassifier\n",
    "from sklearn.metrics import roc_curve, precision_score, recall_score, auc, confusion_matrix\n",
    "from xgboost import XGBClassifier, plot_importance\n",
    "import warnings\n",
    "warnings.filterwarnings('ignore')"
   ]
  },
  {
   "cell_type": "code",
   "execution_count": 123,
   "id": "geographic-original",
   "metadata": {},
   "outputs": [],
   "source": [
    "df1 = df.copy()"
   ]
  },
  {
   "cell_type": "code",
   "execution_count": 124,
   "id": "severe-steps",
   "metadata": {},
   "outputs": [],
   "source": [
    "df1.columns = df.columns"
   ]
  },
  {
   "cell_type": "markdown",
   "id": "pregnant-information",
   "metadata": {},
   "source": [
    "### Let´s normalize the dataset"
   ]
  },
  {
   "cell_type": "code",
   "execution_count": 125,
   "id": "handmade-atlas",
   "metadata": {},
   "outputs": [],
   "source": [
    "x = df1.values\n",
    "min_max_scaler = preprocessing.MinMaxScaler()\n",
    "x_scaled = min_max_scaler.fit_transform(x)\n",
    "scaled = pd.DataFrame(x_scaled)\n",
    "scaled.columns = df.columns"
   ]
  },
  {
   "cell_type": "code",
   "execution_count": 126,
   "id": "expected-neighbor",
   "metadata": {},
   "outputs": [],
   "source": [
    "## Normalized data\n",
    "X = scaled.drop(['Y'], axis = 1)\n",
    "y = scaled['Y']"
   ]
  },
  {
   "cell_type": "markdown",
   "id": "pleasant-three",
   "metadata": {},
   "source": [
    "## Here we are definig Machine Learning Algorithms"
   ]
  },
  {
   "cell_type": "markdown",
   "id": "otherwise-jenny",
   "metadata": {},
   "source": [
    "### As we can see, the solution to the proposed challenge is the elaboration of a CLASSIFICATION  SUPERVISED MODEL\n",
    "#### CLASSIFICATION (because it has a finite number, in this case, boolean, of target values),;\n",
    "#### SUPERVISED model (since there is a target column) "
   ]
  },
  {
   "cell_type": "code",
   "execution_count": 127,
   "id": "consolidated-wonder",
   "metadata": {},
   "outputs": [],
   "source": [
    "## Machine learning classification algorithms classifiers\n",
    "MLA = [\n",
    "    #Ensemble Methods\n",
    "    AdaBoostClassifier(),\n",
    "    BaggingClassifier(),\n",
    "    ExtraTreesClassifier(),\n",
    "    XGBClassifier(),\n",
    "    RandomForestClassifier(),\n",
    "\n",
    "    #Gaussian Processes\n",
    "    GaussianProcessClassifier(),\n",
    "    \n",
    "    #GLM\n",
    "    LogisticRegression(),\n",
    "    PassiveAggressiveClassifier(),\n",
    "    RidgeClassifier(),\n",
    "    SGDClassifier(),\n",
    "    Perceptron(),\n",
    "    \n",
    "    #Navies Bayes\n",
    "    BernoulliNB(),\n",
    "    GaussianNB(),\n",
    "    \n",
    "    #Nearest Neighbor\n",
    "    KNeighborsClassifier(),\n",
    "    \n",
    "    #SVM\n",
    "    SVC(probability=True),\n",
    "    NuSVC(probability=True),\n",
    "    LinearSVC(),\n",
    "    \n",
    "    #Trees    \n",
    "    DecisionTreeClassifier(),\n",
    "    ExtraTreeClassifier()\n",
    "    ]"
   ]
  },
  {
   "cell_type": "code",
   "execution_count": 128,
   "id": "desperate-airfare",
   "metadata": {},
   "outputs": [
    {
     "data": {
      "text/html": [
       "<div>\n",
       "<style scoped>\n",
       "    .dataframe tbody tr th:only-of-type {\n",
       "        vertical-align: middle;\n",
       "    }\n",
       "\n",
       "    .dataframe tbody tr th {\n",
       "        vertical-align: top;\n",
       "    }\n",
       "\n",
       "    .dataframe thead th {\n",
       "        text-align: right;\n",
       "    }\n",
       "</style>\n",
       "<table border=\"1\" class=\"dataframe\">\n",
       "  <thead>\n",
       "    <tr style=\"text-align: right;\">\n",
       "      <th></th>\n",
       "      <th>MLA Name</th>\n",
       "      <th>MLA Train Accuracy</th>\n",
       "      <th>MLA Test Accuracy</th>\n",
       "      <th>MLA Precission</th>\n",
       "      <th>MLA Recall</th>\n",
       "      <th>MLA AUC</th>\n",
       "    </tr>\n",
       "  </thead>\n",
       "  <tbody>\n",
       "    <tr>\n",
       "      <th>9</th>\n",
       "      <td>SGDClassifier</td>\n",
       "      <td>0.6310</td>\n",
       "      <td>0.5952</td>\n",
       "      <td>0.714286</td>\n",
       "      <td>0.576923</td>\n",
       "      <td>0.600962</td>\n",
       "    </tr>\n",
       "    <tr>\n",
       "      <th>7</th>\n",
       "      <td>PassiveAggressiveClassifier</td>\n",
       "      <td>0.6548</td>\n",
       "      <td>0.5952</td>\n",
       "      <td>0.666667</td>\n",
       "      <td>0.692308</td>\n",
       "      <td>0.564904</td>\n",
       "    </tr>\n",
       "    <tr>\n",
       "      <th>10</th>\n",
       "      <td>Perceptron</td>\n",
       "      <td>0.6905</td>\n",
       "      <td>0.5952</td>\n",
       "      <td>0.714286</td>\n",
       "      <td>0.576923</td>\n",
       "      <td>0.600962</td>\n",
       "    </tr>\n",
       "    <tr>\n",
       "      <th>1</th>\n",
       "      <td>BaggingClassifier</td>\n",
       "      <td>0.9405</td>\n",
       "      <td>0.5714</td>\n",
       "      <td>0.681818</td>\n",
       "      <td>0.576923</td>\n",
       "      <td>0.569712</td>\n",
       "    </tr>\n",
       "    <tr>\n",
       "      <th>14</th>\n",
       "      <td>SVC</td>\n",
       "      <td>0.7024</td>\n",
       "      <td>0.5476</td>\n",
       "      <td>0.684211</td>\n",
       "      <td>0.500000</td>\n",
       "      <td>0.562500</td>\n",
       "    </tr>\n",
       "    <tr>\n",
       "      <th>12</th>\n",
       "      <td>GaussianNB</td>\n",
       "      <td>0.5833</td>\n",
       "      <td>0.5476</td>\n",
       "      <td>0.652174</td>\n",
       "      <td>0.576923</td>\n",
       "      <td>0.538462</td>\n",
       "    </tr>\n",
       "    <tr>\n",
       "      <th>18</th>\n",
       "      <td>ExtraTreeClassifier</td>\n",
       "      <td>0.9524</td>\n",
       "      <td>0.5476</td>\n",
       "      <td>0.684211</td>\n",
       "      <td>0.500000</td>\n",
       "      <td>0.562500</td>\n",
       "    </tr>\n",
       "    <tr>\n",
       "      <th>6</th>\n",
       "      <td>LogisticRegression</td>\n",
       "      <td>0.6190</td>\n",
       "      <td>0.5238</td>\n",
       "      <td>0.615385</td>\n",
       "      <td>0.615385</td>\n",
       "      <td>0.495192</td>\n",
       "    </tr>\n",
       "    <tr>\n",
       "      <th>5</th>\n",
       "      <td>GaussianProcessClassifier</td>\n",
       "      <td>0.6548</td>\n",
       "      <td>0.5238</td>\n",
       "      <td>0.625000</td>\n",
       "      <td>0.576923</td>\n",
       "      <td>0.507212</td>\n",
       "    </tr>\n",
       "    <tr>\n",
       "      <th>4</th>\n",
       "      <td>RandomForestClassifier</td>\n",
       "      <td>0.9524</td>\n",
       "      <td>0.5238</td>\n",
       "      <td>0.666667</td>\n",
       "      <td>0.461538</td>\n",
       "      <td>0.543269</td>\n",
       "    </tr>\n",
       "    <tr>\n",
       "      <th>11</th>\n",
       "      <td>BernoulliNB</td>\n",
       "      <td>0.5476</td>\n",
       "      <td>0.5238</td>\n",
       "      <td>0.593750</td>\n",
       "      <td>0.730769</td>\n",
       "      <td>0.459135</td>\n",
       "    </tr>\n",
       "    <tr>\n",
       "      <th>13</th>\n",
       "      <td>KNeighborsClassifier</td>\n",
       "      <td>0.7262</td>\n",
       "      <td>0.5238</td>\n",
       "      <td>0.600000</td>\n",
       "      <td>0.692308</td>\n",
       "      <td>0.471154</td>\n",
       "    </tr>\n",
       "    <tr>\n",
       "      <th>2</th>\n",
       "      <td>ExtraTreesClassifier</td>\n",
       "      <td>0.9524</td>\n",
       "      <td>0.5238</td>\n",
       "      <td>0.666667</td>\n",
       "      <td>0.461538</td>\n",
       "      <td>0.543269</td>\n",
       "    </tr>\n",
       "    <tr>\n",
       "      <th>16</th>\n",
       "      <td>LinearSVC</td>\n",
       "      <td>0.6310</td>\n",
       "      <td>0.5238</td>\n",
       "      <td>0.625000</td>\n",
       "      <td>0.576923</td>\n",
       "      <td>0.507212</td>\n",
       "    </tr>\n",
       "    <tr>\n",
       "      <th>0</th>\n",
       "      <td>AdaBoostClassifier</td>\n",
       "      <td>0.7143</td>\n",
       "      <td>0.5238</td>\n",
       "      <td>0.636364</td>\n",
       "      <td>0.538462</td>\n",
       "      <td>0.519231</td>\n",
       "    </tr>\n",
       "    <tr>\n",
       "      <th>15</th>\n",
       "      <td>NuSVC</td>\n",
       "      <td>0.8929</td>\n",
       "      <td>0.5000</td>\n",
       "      <td>0.631579</td>\n",
       "      <td>0.461538</td>\n",
       "      <td>0.512019</td>\n",
       "    </tr>\n",
       "    <tr>\n",
       "      <th>8</th>\n",
       "      <td>RidgeClassifier</td>\n",
       "      <td>0.6190</td>\n",
       "      <td>0.4762</td>\n",
       "      <td>0.576923</td>\n",
       "      <td>0.576923</td>\n",
       "      <td>0.444712</td>\n",
       "    </tr>\n",
       "    <tr>\n",
       "      <th>17</th>\n",
       "      <td>DecisionTreeClassifier</td>\n",
       "      <td>0.9524</td>\n",
       "      <td>0.4524</td>\n",
       "      <td>0.565217</td>\n",
       "      <td>0.500000</td>\n",
       "      <td>0.437500</td>\n",
       "    </tr>\n",
       "    <tr>\n",
       "      <th>3</th>\n",
       "      <td>XGBClassifier</td>\n",
       "      <td>0.9286</td>\n",
       "      <td>0.3810</td>\n",
       "      <td>0.500000</td>\n",
       "      <td>0.423077</td>\n",
       "      <td>0.367788</td>\n",
       "    </tr>\n",
       "  </tbody>\n",
       "</table>\n",
       "</div>"
      ],
      "text/plain": [
       "                       MLA Name  MLA Train Accuracy  MLA Test Accuracy  \\\n",
       "9                 SGDClassifier              0.6310             0.5952   \n",
       "7   PassiveAggressiveClassifier              0.6548             0.5952   \n",
       "10                   Perceptron              0.6905             0.5952   \n",
       "1             BaggingClassifier              0.9405             0.5714   \n",
       "14                          SVC              0.7024             0.5476   \n",
       "12                   GaussianNB              0.5833             0.5476   \n",
       "18          ExtraTreeClassifier              0.9524             0.5476   \n",
       "6            LogisticRegression              0.6190             0.5238   \n",
       "5     GaussianProcessClassifier              0.6548             0.5238   \n",
       "4        RandomForestClassifier              0.9524             0.5238   \n",
       "11                  BernoulliNB              0.5476             0.5238   \n",
       "13         KNeighborsClassifier              0.7262             0.5238   \n",
       "2          ExtraTreesClassifier              0.9524             0.5238   \n",
       "16                    LinearSVC              0.6310             0.5238   \n",
       "0            AdaBoostClassifier              0.7143             0.5238   \n",
       "15                        NuSVC              0.8929             0.5000   \n",
       "8               RidgeClassifier              0.6190             0.4762   \n",
       "17       DecisionTreeClassifier              0.9524             0.4524   \n",
       "3                 XGBClassifier              0.9286             0.3810   \n",
       "\n",
       "    MLA Precission  MLA Recall   MLA AUC  \n",
       "9         0.714286    0.576923  0.600962  \n",
       "7         0.666667    0.692308  0.564904  \n",
       "10        0.714286    0.576923  0.600962  \n",
       "1         0.681818    0.576923  0.569712  \n",
       "14        0.684211    0.500000  0.562500  \n",
       "12        0.652174    0.576923  0.538462  \n",
       "18        0.684211    0.500000  0.562500  \n",
       "6         0.615385    0.615385  0.495192  \n",
       "5         0.625000    0.576923  0.507212  \n",
       "4         0.666667    0.461538  0.543269  \n",
       "11        0.593750    0.730769  0.459135  \n",
       "13        0.600000    0.692308  0.471154  \n",
       "2         0.666667    0.461538  0.543269  \n",
       "16        0.625000    0.576923  0.507212  \n",
       "0         0.636364    0.538462  0.519231  \n",
       "15        0.631579    0.461538  0.512019  \n",
       "8         0.576923    0.576923  0.444712  \n",
       "17        0.565217    0.500000  0.437500  \n",
       "3         0.500000    0.423077  0.367788  "
      ]
     },
     "execution_count": 128,
     "metadata": {},
     "output_type": "execute_result"
    }
   ],
   "source": [
    "### Build a dataframe of prediction results, ordered by model accuracy \n",
    "MLA_columns = []\n",
    "MLA_compare = pd.DataFrame(columns = MLA_columns)\n",
    "X = scaled.drop(['Y'], axis = 1)\n",
    "y = scaled['Y']\n",
    "row_index = 0\n",
    "for alg in MLA:\n",
    "    x_train, x_test, y_train, y_test = train_test_split(X, y, test_size = 0.33, random_state=102)\n",
    "    predicted = alg.fit(x_train, y_train).predict(x_test)\n",
    "    fp, tp, th = roc_curve(y_test, predicted)\n",
    "    MLA_name = alg.__class__.__name__\n",
    "    MLA_compare.loc[row_index,'MLA Name'] = MLA_name\n",
    "    MLA_compare.loc[row_index, 'MLA Train Accuracy'] = round(alg.score(x_train, y_train), 4)\n",
    "    MLA_compare.loc[row_index, 'MLA Test Accuracy'] = round(alg.score(x_test, y_test), 4)\n",
    "    MLA_compare.loc[row_index, 'MLA Precission'] = precision_score(y_test, predicted)\n",
    "    MLA_compare.loc[row_index, 'MLA Recall'] = recall_score(y_test, predicted)\n",
    "    MLA_compare.loc[row_index, 'MLA AUC'] = auc(fp, tp)\n",
    "    row_index+=1\n",
    "    \n",
    "MLA_compare.sort_values(by = ['MLA Test Accuracy'], ascending = False, inplace = True)    \n",
    "MLA_compare"
   ]
  },
  {
   "cell_type": "code",
   "execution_count": 129,
   "id": "fatty-nigeria",
   "metadata": {},
   "outputs": [
    {
     "name": "stdout",
     "output_type": "stream",
     "text": [
      "                 MLA Name  MLA Train Accuracy\n",
      "4  RandomForestClassifier              0.9524\n"
     ]
    }
   ],
   "source": [
    "## Selecting the best performance in train\n",
    "MLA_compare.sort_values(by = ['MLA Train Accuracy'], ascending = False, inplace = True)\n",
    "MLA_compare.head(1)\n",
    "winner_train = pd.DataFrame(MLA_compare.head(1))\n",
    "print(winner_train[['MLA Name', 'MLA Train Accuracy']])"
   ]
  },
  {
   "cell_type": "code",
   "execution_count": 130,
   "id": "annoying-planning",
   "metadata": {},
   "outputs": [
    {
     "name": "stdout",
     "output_type": "stream",
     "text": [
      "      MLA Name  MLA Test Accuracy\n",
      "10  Perceptron             0.5952\n"
     ]
    }
   ],
   "source": [
    "## Selecting the best performance in test\n",
    "MLA_compare.sort_values(by = ['MLA Test Accuracy'], ascending = False, inplace = True)\n",
    "MLA_compare.head(1)\n",
    "winner_test = pd.DataFrame(MLA_compare.head(1))\n",
    "print(winner_test[['MLA Name', 'MLA Test Accuracy']])"
   ]
  },
  {
   "cell_type": "code",
   "execution_count": 131,
   "id": "apparent-cricket",
   "metadata": {},
   "outputs": [
    {
     "data": {
      "image/png": "[encoded data removed]",
      "text/plain": [
       "<Figure size 432x288 with 1 Axes>"
      ]
     },
     "metadata": {
      "needs_background": "light"
     },
     "output_type": "display_data"
    }
   ],
   "source": [
    "## Roc Curve comparison\n",
    "index = 1\n",
    "for alg in MLA:\n",
    "    predicted = alg.fit(x_train, y_train).predict(x_test)\n",
    "    fp, tp, th = roc_curve(y_test, predicted)\n",
    "    roc_auc_mla = auc(fp, tp)\n",
    "    MLA_name = alg.__class__.__name__\n",
    "    plt.plot(fp, tp, lw=2, alpha=0.3, label='ROC %s (AUC = %0.2f)'  % (MLA_name, roc_auc_mla))\n",
    "   \n",
    "    index+=1\n",
    "plt.title('ROC Curve comparison')\n",
    "plt.legend(bbox_to_anchor=(1.05, 1), loc=2, borderaxespad=0.)\n",
    "plt.plot([0,1],[0,1],'r--')\n",
    "plt.xlim([0,1])\n",
    "plt.ylim([0,1])\n",
    "plt.ylabel('True Positive Rate')\n",
    "plt.xlabel('False Positive Rate')    \n",
    "plt.show()"
   ]
  },
  {
   "cell_type": "code",
   "execution_count": 133,
   "id": "found-mason",
   "metadata": {},
   "outputs": [
    {
     "name": "stdout",
     "output_type": "stream",
     "text": [
      "BEFORE tuning Training set score: 0.690\n",
      "BEFORE tuning Test set score: 0.595\n"
     ]
    }
   ],
   "source": [
    "#Select the algorithm to be tuned - Here we can reach the target by tunning, but the model will overfit\n",
    "## Have to manually select from winner in TEST. \n",
    "tunealg = Perceptron()\n",
    "tunealg.fit(x_train, y_train)\n",
    "print(\"BEFORE tuning Training set score: {:.3f}\". format(tunealg.score(x_train, y_train))) \n",
    "print(\"BEFORE tuning Test set score: {:.3f}\". format(tunealg.score(x_test, y_test)))"
   ]
  },
  {
   "cell_type": "markdown",
   "id": "defined-consultation",
   "metadata": {},
   "source": [
    "## Accuracy of the best performance model  in test set could not reach 70%. "
   ]
  },
  {
   "cell_type": "markdown",
   "id": "pressed-alloy",
   "metadata": {},
   "source": [
    "# Why?"
   ]
  },
  {
   "cell_type": "markdown",
   "id": "cleared-lemon",
   "metadata": {},
   "source": [
    "### The classifier doesn't do better than a random choice.There is a risk that there simply is no connection between features and class, exposed by the low correlation above showned.\n",
    "### In cases like this, we need the  business expert who may infer the class based on given features (with an accuracy greater than a random classifier) for us to tune the model. \n",
    "### Usually getting more data rows or changing the classifier won't help to improve the model"
   ]
  },
  {
   "cell_type": "markdown",
   "id": "close-citizen",
   "metadata": {},
   "source": [
    "### Let´s do feature selection, using FILTER method (bonus) to check if there is some information "
   ]
  },
  {
   "cell_type": "code",
   "execution_count": 134,
   "id": "latin-swing",
   "metadata": {},
   "outputs": [],
   "source": [
    "from sklearn.feature_selection import mutual_info_regression, mutual_info_classif"
   ]
  },
  {
   "cell_type": "code",
   "execution_count": 135,
   "id": "charitable-jason",
   "metadata": {},
   "outputs": [],
   "source": [
    "features = scaled.copy()"
   ]
  },
  {
   "cell_type": "code",
   "execution_count": 136,
   "id": "governing-integral",
   "metadata": {},
   "outputs": [],
   "source": [
    "## We will apply filter method to select features\n",
    "X = features.drop(\"Y\", axis = 1)\n",
    "y = features['Y']"
   ]
  },
  {
   "cell_type": "code",
   "execution_count": 137,
   "id": "super-zealand",
   "metadata": {},
   "outputs": [],
   "source": [
    "mi = mutual_info_regression(X, y, n_neighbors = 2, random_state = 102)"
   ]
  },
  {
   "cell_type": "code",
   "execution_count": 138,
   "id": "challenging-observation",
   "metadata": {},
   "outputs": [
    {
     "data": {
      "text/plain": [
       "<AxesSubplot:>"
      ]
     },
     "execution_count": 138,
     "metadata": {},
     "output_type": "execute_result"
    },
    {
     "data": {
      "image/png": "[encoded data removed]",
      "text/plain": [
       "<Figure size 720x288 with 1 Axes>"
      ]
     },
     "metadata": {
      "needs_background": "light"
     },
     "output_type": "display_data"
    }
   ],
   "source": [
    "mi = pd.Series(mi)\n",
    "mi.index = X.columns\n",
    "mi.sort_values(ascending=False)\n",
    "mi.sort_values(ascending=False).plot.bar(figsize=(10, 4))"
   ]
  },
  {
   "cell_type": "markdown",
   "id": "computational-insertion",
   "metadata": {},
   "source": [
    "## As we can see the X2 column could be excluded in next survey"
   ]
  },
  {
   "cell_type": "code",
   "execution_count": null,
   "id": "greatest-statement",
   "metadata": {},
   "outputs": [],
   "source": []
  }
 ],
 "metadata": {
  "kernelspec": {
   "display_name": "Python 3",
   "language": "python",
   "name": "python3"
  },
  "language_info": {
   "codemirror_mode": {
    "name": "ipython",
    "version": 3
   },
   "file_extension": ".py",
   "mimetype": "text/x-python",
   "name": "python",
   "nbconvert_exporter": "python",
   "pygments_lexer": "ipython3",
   "version": "3.7.10"
  }
 },
 "nbformat": 4,
 "nbformat_minor": 5
}
