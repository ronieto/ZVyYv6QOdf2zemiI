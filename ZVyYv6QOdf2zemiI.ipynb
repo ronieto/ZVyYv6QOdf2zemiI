{
 "cells": [
  {
   "cell_type": "markdown",
   "id": "minute-charlotte",
   "metadata": {},
   "source": [
    "### Starting Challenge"
   ]
  },
  {
   "cell_type": "code",
   "execution_count": 1,
   "id": "amino-spice",
   "metadata": {},
   "outputs": [],
   "source": [
    "## Import basic libs\n",
    "import pandas as pd\n",
    "import numpy as np\n",
    "import matplotlib.pyplot as plt\n",
    "import seaborn as sns"
   ]
  },
  {
   "cell_type": "code",
   "execution_count": 2,
   "id": "gorgeous-restaurant",
   "metadata": {},
   "outputs": [
    {
     "data": {
      "text/html": [
       "<div>\n",
       "<style scoped>\n",
       "    .dataframe tbody tr th:only-of-type {\n",
       "        vertical-align: middle;\n",
       "    }\n",
       "\n",
       "    .dataframe tbody tr th {\n",
       "        vertical-align: top;\n",
       "    }\n",
       "\n",
       "    .dataframe thead th {\n",
       "        text-align: right;\n",
       "    }\n",
       "</style>\n",
       "<table border=\"1\" class=\"dataframe\">\n",
       "  <thead>\n",
       "    <tr style=\"text-align: right;\">\n",
       "      <th></th>\n",
       "      <th>Y</th>\n",
       "      <th>X1</th>\n",
       "      <th>X2</th>\n",
       "      <th>X3</th>\n",
       "      <th>X4</th>\n",
       "      <th>X5</th>\n",
       "      <th>X6</th>\n",
       "    </tr>\n",
       "  </thead>\n",
       "  <tbody>\n",
       "    <tr>\n",
       "      <th>0</th>\n",
       "      <td>0</td>\n",
       "      <td>3</td>\n",
       "      <td>3</td>\n",
       "      <td>3</td>\n",
       "      <td>4</td>\n",
       "      <td>2</td>\n",
       "      <td>4</td>\n",
       "    </tr>\n",
       "    <tr>\n",
       "      <th>1</th>\n",
       "      <td>0</td>\n",
       "      <td>3</td>\n",
       "      <td>2</td>\n",
       "      <td>3</td>\n",
       "      <td>5</td>\n",
       "      <td>4</td>\n",
       "      <td>3</td>\n",
       "    </tr>\n",
       "    <tr>\n",
       "      <th>2</th>\n",
       "      <td>1</td>\n",
       "      <td>5</td>\n",
       "      <td>3</td>\n",
       "      <td>3</td>\n",
       "      <td>3</td>\n",
       "      <td>3</td>\n",
       "      <td>5</td>\n",
       "    </tr>\n",
       "    <tr>\n",
       "      <th>3</th>\n",
       "      <td>0</td>\n",
       "      <td>5</td>\n",
       "      <td>4</td>\n",
       "      <td>3</td>\n",
       "      <td>3</td>\n",
       "      <td>3</td>\n",
       "      <td>5</td>\n",
       "    </tr>\n",
       "    <tr>\n",
       "      <th>4</th>\n",
       "      <td>0</td>\n",
       "      <td>5</td>\n",
       "      <td>4</td>\n",
       "      <td>3</td>\n",
       "      <td>3</td>\n",
       "      <td>3</td>\n",
       "      <td>5</td>\n",
       "    </tr>\n",
       "  </tbody>\n",
       "</table>\n",
       "</div>"
      ],
      "text/plain": [
       "   Y  X1  X2  X3  X4  X5  X6\n",
       "0  0   3   3   3   4   2   4\n",
       "1  0   3   2   3   5   4   3\n",
       "2  1   5   3   3   3   3   5\n",
       "3  0   5   4   3   3   3   5\n",
       "4  0   5   4   3   3   3   5"
      ]
     },
     "execution_count": 2,
     "metadata": {},
     "output_type": "execute_result"
    }
   ],
   "source": [
    "# Get and check database\n",
    "df = pd.read_csv(\"ACME-HappinessSurvey2020.csv\")\n",
    "df.head()"
   ]
  },
  {
   "cell_type": "code",
   "execution_count": 3,
   "id": "threaded-assumption",
   "metadata": {},
   "outputs": [
    {
     "name": "stdout",
     "output_type": "stream",
     "text": [
      "<class 'pandas.core.frame.DataFrame'>\n",
      "RangeIndex: 126 entries, 0 to 125\n",
      "Data columns (total 7 columns):\n",
      " #   Column  Non-Null Count  Dtype\n",
      "---  ------  --------------  -----\n",
      " 0   Y       126 non-null    int64\n",
      " 1   X1      126 non-null    int64\n",
      " 2   X2      126 non-null    int64\n",
      " 3   X3      126 non-null    int64\n",
      " 4   X4      126 non-null    int64\n",
      " 5   X5      126 non-null    int64\n",
      " 6   X6      126 non-null    int64\n",
      "dtypes: int64(7)\n",
      "memory usage: 7.0 KB\n"
     ]
    }
   ],
   "source": [
    "df.info()"
   ]
  },
  {
   "cell_type": "markdown",
   "id": "noticed-image",
   "metadata": {},
   "source": [
    "## EDA\n",
    "#### The exploratory data analysis helps to see get better comprehension"
   ]
  },
  {
   "cell_type": "code",
   "execution_count": 4,
   "id": "suburban-medicine",
   "metadata": {},
   "outputs": [
    {
     "data": {
      "text/plain": [
       "<AxesSubplot:>"
      ]
     },
     "execution_count": 4,
     "metadata": {},
     "output_type": "execute_result"
    },
    {
     "data": {
      "image/png": "[encoded data removed]",
      "text/plain": [
       "<Figure size 432x288 with 1 Axes>"
      ]
     },
     "metadata": {
      "needs_background": "light"
     },
     "output_type": "display_data"
    }
   ],
   "source": [
    "## Lets check the distribution of the target variable\n",
    "df['Y'].hist()"
   ]
  },
  {
   "cell_type": "code",
   "execution_count": 5,
   "id": "another-agent",
   "metadata": {},
   "outputs": [
    {
     "name": "stdout",
     "output_type": "stream",
     "text": [
      "1    69\n",
      "0    57\n",
      "Name: Y, dtype: int64\n"
     ]
    },
    {
     "data": {
      "text/plain": [
       "Y     0\n",
       "X1    0\n",
       "X2    0\n",
       "X3    0\n",
       "X4    0\n",
       "X5    0\n",
       "X6    0\n",
       "dtype: int64"
      ]
     },
     "execution_count": 5,
     "metadata": {},
     "output_type": "execute_result"
    }
   ],
   "source": [
    "## Target column is balanced and have no null values\n",
    "print(df['Y'].value_counts())\n",
    "df.isnull().sum()"
   ]
  },
  {
   "cell_type": "code",
   "execution_count": 6,
   "id": "sweet-taxation",
   "metadata": {},
   "outputs": [
    {
     "data": {
      "text/plain": [
       "<AxesSubplot:>"
      ]
     },
     "execution_count": 6,
     "metadata": {},
     "output_type": "execute_result"
    },
    {
     "data": {
      "image/png": "[encoded data removed]",
      "text/plain": [
       "<Figure size 432x288 with 1 Axes>"
      ]
     },
     "metadata": {
      "needs_background": "light"
     },
     "output_type": "display_data"
    }
   ],
   "source": [
    "## Check values distribution trough columns\n",
    "df.boxplot(column=[\"X1\", \"X2\", \"X3\", \"X4\", \"X5\", \"X6\"])"
   ]
  },
  {
   "cell_type": "code",
   "execution_count": 7,
   "id": "round-upper",
   "metadata": {},
   "outputs": [
    {
     "data": {
      "text/html": [
       "<div>\n",
       "<style scoped>\n",
       "    .dataframe tbody tr th:only-of-type {\n",
       "        vertical-align: middle;\n",
       "    }\n",
       "\n",
       "    .dataframe tbody tr th {\n",
       "        vertical-align: top;\n",
       "    }\n",
       "\n",
       "    .dataframe thead th {\n",
       "        text-align: right;\n",
       "    }\n",
       "</style>\n",
       "<table border=\"1\" class=\"dataframe\">\n",
       "  <thead>\n",
       "    <tr style=\"text-align: right;\">\n",
       "      <th></th>\n",
       "      <th>Y</th>\n",
       "      <th>X1</th>\n",
       "      <th>X2</th>\n",
       "      <th>X3</th>\n",
       "      <th>X4</th>\n",
       "      <th>X5</th>\n",
       "      <th>X6</th>\n",
       "    </tr>\n",
       "  </thead>\n",
       "  <tbody>\n",
       "    <tr>\n",
       "      <th>Y</th>\n",
       "      <td>1.000000</td>\n",
       "      <td>0.280160</td>\n",
       "      <td>-0.024274</td>\n",
       "      <td>0.150838</td>\n",
       "      <td>0.064415</td>\n",
       "      <td>0.224522</td>\n",
       "      <td>0.167669</td>\n",
       "    </tr>\n",
       "    <tr>\n",
       "      <th>X1</th>\n",
       "      <td>0.280160</td>\n",
       "      <td>1.000000</td>\n",
       "      <td>0.059797</td>\n",
       "      <td>0.283358</td>\n",
       "      <td>0.087541</td>\n",
       "      <td>0.432772</td>\n",
       "      <td>0.411873</td>\n",
       "    </tr>\n",
       "    <tr>\n",
       "      <th>X2</th>\n",
       "      <td>-0.024274</td>\n",
       "      <td>0.059797</td>\n",
       "      <td>1.000000</td>\n",
       "      <td>0.184129</td>\n",
       "      <td>0.114838</td>\n",
       "      <td>0.039996</td>\n",
       "      <td>-0.062205</td>\n",
       "    </tr>\n",
       "    <tr>\n",
       "      <th>X3</th>\n",
       "      <td>0.150838</td>\n",
       "      <td>0.283358</td>\n",
       "      <td>0.184129</td>\n",
       "      <td>1.000000</td>\n",
       "      <td>0.302618</td>\n",
       "      <td>0.358397</td>\n",
       "      <td>0.203750</td>\n",
       "    </tr>\n",
       "    <tr>\n",
       "      <th>X4</th>\n",
       "      <td>0.064415</td>\n",
       "      <td>0.087541</td>\n",
       "      <td>0.114838</td>\n",
       "      <td>0.302618</td>\n",
       "      <td>1.000000</td>\n",
       "      <td>0.293115</td>\n",
       "      <td>0.215888</td>\n",
       "    </tr>\n",
       "    <tr>\n",
       "      <th>X5</th>\n",
       "      <td>0.224522</td>\n",
       "      <td>0.432772</td>\n",
       "      <td>0.039996</td>\n",
       "      <td>0.358397</td>\n",
       "      <td>0.293115</td>\n",
       "      <td>1.000000</td>\n",
       "      <td>0.320195</td>\n",
       "    </tr>\n",
       "    <tr>\n",
       "      <th>X6</th>\n",
       "      <td>0.167669</td>\n",
       "      <td>0.411873</td>\n",
       "      <td>-0.062205</td>\n",
       "      <td>0.203750</td>\n",
       "      <td>0.215888</td>\n",
       "      <td>0.320195</td>\n",
       "      <td>1.000000</td>\n",
       "    </tr>\n",
       "  </tbody>\n",
       "</table>\n",
       "</div>"
      ],
      "text/plain": [
       "           Y        X1        X2        X3        X4        X5        X6\n",
       "Y   1.000000  0.280160 -0.024274  0.150838  0.064415  0.224522  0.167669\n",
       "X1  0.280160  1.000000  0.059797  0.283358  0.087541  0.432772  0.411873\n",
       "X2 -0.024274  0.059797  1.000000  0.184129  0.114838  0.039996 -0.062205\n",
       "X3  0.150838  0.283358  0.184129  1.000000  0.302618  0.358397  0.203750\n",
       "X4  0.064415  0.087541  0.114838  0.302618  1.000000  0.293115  0.215888\n",
       "X5  0.224522  0.432772  0.039996  0.358397  0.293115  1.000000  0.320195\n",
       "X6  0.167669  0.411873 -0.062205  0.203750  0.215888  0.320195  1.000000"
      ]
     },
     "execution_count": 7,
     "metadata": {},
     "output_type": "execute_result"
    }
   ],
   "source": [
    "## As we can see, higher values are in X1 and X6 columns, as well as lower values are in X2 column\n",
    "## Lets check Pearson correlation \n",
    "df.corr()"
   ]
  },
  {
   "cell_type": "code",
   "execution_count": 8,
   "id": "exposed-trick",
   "metadata": {},
   "outputs": [
    {
     "data": {
      "text/html": [
       "<div>\n",
       "<style scoped>\n",
       "    .dataframe tbody tr th:only-of-type {\n",
       "        vertical-align: middle;\n",
       "    }\n",
       "\n",
       "    .dataframe tbody tr th {\n",
       "        vertical-align: top;\n",
       "    }\n",
       "\n",
       "    .dataframe thead th {\n",
       "        text-align: right;\n",
       "    }\n",
       "</style>\n",
       "<table border=\"1\" class=\"dataframe\">\n",
       "  <thead>\n",
       "    <tr style=\"text-align: right;\">\n",
       "      <th></th>\n",
       "      <th>Y</th>\n",
       "      <th>X1</th>\n",
       "      <th>X2</th>\n",
       "      <th>X3</th>\n",
       "      <th>X4</th>\n",
       "      <th>X5</th>\n",
       "      <th>X6</th>\n",
       "    </tr>\n",
       "  </thead>\n",
       "  <tbody>\n",
       "    <tr>\n",
       "      <th>count</th>\n",
       "      <td>126.000000</td>\n",
       "      <td>126.000000</td>\n",
       "      <td>126.000000</td>\n",
       "      <td>126.000000</td>\n",
       "      <td>126.000000</td>\n",
       "      <td>126.000000</td>\n",
       "      <td>126.000000</td>\n",
       "    </tr>\n",
       "    <tr>\n",
       "      <th>mean</th>\n",
       "      <td>0.547619</td>\n",
       "      <td>4.333333</td>\n",
       "      <td>2.531746</td>\n",
       "      <td>3.309524</td>\n",
       "      <td>3.746032</td>\n",
       "      <td>3.650794</td>\n",
       "      <td>4.253968</td>\n",
       "    </tr>\n",
       "    <tr>\n",
       "      <th>std</th>\n",
       "      <td>0.499714</td>\n",
       "      <td>0.800000</td>\n",
       "      <td>1.114892</td>\n",
       "      <td>1.023440</td>\n",
       "      <td>0.875776</td>\n",
       "      <td>1.147641</td>\n",
       "      <td>0.809311</td>\n",
       "    </tr>\n",
       "    <tr>\n",
       "      <th>min</th>\n",
       "      <td>0.000000</td>\n",
       "      <td>1.000000</td>\n",
       "      <td>1.000000</td>\n",
       "      <td>1.000000</td>\n",
       "      <td>1.000000</td>\n",
       "      <td>1.000000</td>\n",
       "      <td>1.000000</td>\n",
       "    </tr>\n",
       "    <tr>\n",
       "      <th>25%</th>\n",
       "      <td>0.000000</td>\n",
       "      <td>4.000000</td>\n",
       "      <td>2.000000</td>\n",
       "      <td>3.000000</td>\n",
       "      <td>3.000000</td>\n",
       "      <td>3.000000</td>\n",
       "      <td>4.000000</td>\n",
       "    </tr>\n",
       "    <tr>\n",
       "      <th>50%</th>\n",
       "      <td>1.000000</td>\n",
       "      <td>5.000000</td>\n",
       "      <td>3.000000</td>\n",
       "      <td>3.000000</td>\n",
       "      <td>4.000000</td>\n",
       "      <td>4.000000</td>\n",
       "      <td>4.000000</td>\n",
       "    </tr>\n",
       "    <tr>\n",
       "      <th>75%</th>\n",
       "      <td>1.000000</td>\n",
       "      <td>5.000000</td>\n",
       "      <td>3.000000</td>\n",
       "      <td>4.000000</td>\n",
       "      <td>4.000000</td>\n",
       "      <td>4.000000</td>\n",
       "      <td>5.000000</td>\n",
       "    </tr>\n",
       "    <tr>\n",
       "      <th>max</th>\n",
       "      <td>1.000000</td>\n",
       "      <td>5.000000</td>\n",
       "      <td>5.000000</td>\n",
       "      <td>5.000000</td>\n",
       "      <td>5.000000</td>\n",
       "      <td>5.000000</td>\n",
       "      <td>5.000000</td>\n",
       "    </tr>\n",
       "  </tbody>\n",
       "</table>\n",
       "</div>"
      ],
      "text/plain": [
       "                Y          X1          X2          X3          X4          X5  \\\n",
       "count  126.000000  126.000000  126.000000  126.000000  126.000000  126.000000   \n",
       "mean     0.547619    4.333333    2.531746    3.309524    3.746032    3.650794   \n",
       "std      0.499714    0.800000    1.114892    1.023440    0.875776    1.147641   \n",
       "min      0.000000    1.000000    1.000000    1.000000    1.000000    1.000000   \n",
       "25%      0.000000    4.000000    2.000000    3.000000    3.000000    3.000000   \n",
       "50%      1.000000    5.000000    3.000000    3.000000    4.000000    4.000000   \n",
       "75%      1.000000    5.000000    3.000000    4.000000    4.000000    4.000000   \n",
       "max      1.000000    5.000000    5.000000    5.000000    5.000000    5.000000   \n",
       "\n",
       "               X6  \n",
       "count  126.000000  \n",
       "mean     4.253968  \n",
       "std      0.809311  \n",
       "min      1.000000  \n",
       "25%      4.000000  \n",
       "50%      4.000000  \n",
       "75%      5.000000  \n",
       "max      5.000000  "
      ]
     },
     "execution_count": 8,
     "metadata": {},
     "output_type": "execute_result"
    }
   ],
   "source": [
    "## and check Basic statistics\n",
    "df.describe()"
   ]
  },
  {
   "cell_type": "code",
   "execution_count": 9,
   "id": "julian-reverse",
   "metadata": {},
   "outputs": [
    {
     "data": {
      "text/plain": [
       "<AxesSubplot:>"
      ]
     },
     "execution_count": 9,
     "metadata": {},
     "output_type": "execute_result"
    },
    {
     "data": {
      "image/png": "[encoded data removed]",
      "text/plain": [
       "<Figure size 432x288 with 2 Axes>"
      ]
     },
     "metadata": {
      "needs_background": "light"
     },
     "output_type": "display_data"
    }
   ],
   "source": [
    "## Plot correlation heatmap (coldmap in this case)\n",
    "sns.heatmap(df.corr(),linewidths = .5, annot = True, cmap = 'YlGnBu', square = True)"
   ]
  },
  {
   "cell_type": "code",
   "execution_count": 10,
   "id": "matched-hunter",
   "metadata": {},
   "outputs": [
    {
     "name": "stdout",
     "output_type": "stream",
     "text": [
      "Y  have NO correlation with  X1\n",
      "Y  have NO correlation with  X2\n",
      "Y  have NO correlation with  X3\n",
      "Y  have NO correlation with  X4\n",
      "Y  have NO correlation with  X5\n",
      "Y  have NO correlation with  X6\n",
      "X1  have NO correlation with  Y\n",
      "X1  have NO correlation with  X2\n",
      "X1  have NO correlation with  X3\n",
      "X1  have NO correlation with  X4\n",
      "X1  have LOW correlation  with  X5\n",
      "X1  have LOW correlation  with  X6\n",
      "X2  have NO correlation with  Y\n",
      "X2  have NO correlation with  X1\n",
      "X2  have NO correlation with  X3\n",
      "X2  have NO correlation with  X4\n",
      "X2  have NO correlation with  X5\n",
      "X2  have NO correlation with  X6\n",
      "X3  have NO correlation with  Y\n",
      "X3  have NO correlation with  X1\n",
      "X3  have NO correlation with  X2\n",
      "X3  have LOW correlation  with  X4\n",
      "X3  have LOW correlation  with  X5\n",
      "X3  have NO correlation with  X6\n",
      "X4  have NO correlation with  Y\n",
      "X4  have NO correlation with  X1\n",
      "X4  have NO correlation with  X2\n",
      "X4  have LOW correlation  with  X3\n",
      "X4  have NO correlation with  X5\n",
      "X4  have NO correlation with  X6\n",
      "X5  have NO correlation with  Y\n",
      "X5  have LOW correlation  with  X1\n",
      "X5  have NO correlation with  X2\n",
      "X5  have LOW correlation  with  X3\n",
      "X5  have NO correlation with  X4\n",
      "X5  have LOW correlation  with  X6\n",
      "X6  have NO correlation with  Y\n",
      "X6  have LOW correlation  with  X1\n",
      "X6  have NO correlation with  X2\n",
      "X6  have NO correlation with  X3\n",
      "X6  have NO correlation with  X4\n",
      "X6  have LOW correlation  with  X5\n"
     ]
    }
   ],
   "source": [
    "## Check one-by-one\n",
    "for i in range(0,len(df.columns)):\n",
    "    for j in  range(0,len(df.columns)):\n",
    "        if i!=j:\n",
    "            corr_1=np.abs(df[df.columns[i]].corr(df[df.columns[j]]))\n",
    "            if corr_1 >0.3:\n",
    "                print(df.columns[i] , \" have LOW correlation  with \", df.columns[j])\n",
    "            elif corr_1>0.75:\n",
    "                print( df.columns[i] , \" have HIGH  correlated  with \", df.columns[j])\n",
    "            elif corr_1 < -0.7:\n",
    "                print( df.columns[i] , \" have INVERTED correlation with \", df.columns[j])\n",
    "            else:\n",
    "                print(df.columns[i] , \" have NO correlation with \", df.columns[j])"
   ]
  },
  {
   "cell_type": "markdown",
   "id": "federal-copyright",
   "metadata": {},
   "source": [
    "### The correlation varies between +1 (highly correlated) and -1 (inversely correlated), and is one of the simplest ways to begin to understand how the variables are related to each other. \n",
    "### I prefer building a Correlation Matrix so I can clearly see the variables relationship.\n",
    "### BUT, In cases with low/desprezible correlation (like above), the matrix may not be a good measure. "
   ]
  },
  {
   "cell_type": "markdown",
   "id": "legitimate-reservation",
   "metadata": {},
   "source": [
    "## Let´s compare models and see how accurate they can be:"
   ]
  },
  {
   "cell_type": "code",
   "execution_count": 11,
   "id": "monetary-hampshire",
   "metadata": {},
   "outputs": [],
   "source": [
    "## machine learning Libs\n",
    "from sklearn import preprocessing\n",
    "from sklearn.tree import DecisionTreeClassifier, ExtraTreeClassifier\n",
    "from sklearn.model_selection import train_test_split, KFold, cross_val_score, GridSearchCV\n",
    "from sklearn.ensemble import RandomForestClassifier, AdaBoostClassifier, BaggingClassifier, ExtraTreesClassifier\n",
    "from sklearn.linear_model import LogisticRegression, PassiveAggressiveClassifier, RidgeClassifier, SGDClassifier, Perceptron\n",
    "from sklearn.gaussian_process import GaussianProcessClassifier\n",
    "from sklearn.naive_bayes import BernoulliNB, GaussianNB\n",
    "from sklearn.svm import SVC, NuSVC, LinearSVC\n",
    "from sklearn.neighbors import KNeighborsClassifier\n",
    "from sklearn.metrics import roc_curve, precision_score, recall_score, auc, confusion_matrix\n",
    "from xgboost import XGBClassifier, plot_importance\n",
    "import warnings\n",
    "warnings.filterwarnings('ignore')"
   ]
  },
  {
   "cell_type": "code",
   "execution_count": 12,
   "id": "geographic-original",
   "metadata": {},
   "outputs": [],
   "source": [
    "df1 = df.copy()"
   ]
  },
  {
   "cell_type": "code",
   "execution_count": 13,
   "id": "severe-steps",
   "metadata": {},
   "outputs": [],
   "source": [
    "df1.columns = df.columns"
   ]
  },
  {
   "cell_type": "markdown",
   "id": "pregnant-information",
   "metadata": {},
   "source": [
    "# Feedback #1\n",
    "## Skiped part after feedback\n",
    "### Let´s normalize the dataset"
   ]
  },
  {
   "cell_type": "markdown",
   "id": "signal-software",
   "metadata": {},
   "source": [
    "x = df1.values\n",
    "min_max_scaler = preprocessing.MinMaxScaler()\n",
    "x_scaled = min_max_scaler.fit_transform(x)\n",
    "scaled = pd.DataFrame(x_scaled)\n",
    "scaled.columns = df.columns"
   ]
  },
  {
   "cell_type": "markdown",
   "id": "interpreted-phoenix",
   "metadata": {},
   "source": [
    "## Normalized data\n",
    "X = scaled.drop(['Y'], axis = 1)\n",
    "y = scaled['Y']"
   ]
  },
  {
   "cell_type": "markdown",
   "id": "pleasant-three",
   "metadata": {},
   "source": [
    "## Here we are definig Machine Learning Algorithms"
   ]
  },
  {
   "cell_type": "markdown",
   "id": "otherwise-jenny",
   "metadata": {},
   "source": [
    "### As we can see, the solution to the proposed challenge is the elaboration of a CLASSIFICATION  SUPERVISED MODEL\n",
    "#### CLASSIFICATION (because it has a finite number, in this case, boolean, of target values),;\n",
    "#### SUPERVISED model (since there is a target column) "
   ]
  },
  {
   "cell_type": "code",
   "execution_count": 14,
   "id": "consolidated-wonder",
   "metadata": {},
   "outputs": [],
   "source": [
    "## Machine learning classification algorithms classifiers\n",
    "MLA = [\n",
    "    #Ensemble Methods\n",
    "    AdaBoostClassifier(),\n",
    "    BaggingClassifier(),\n",
    "    ExtraTreesClassifier(),\n",
    "    XGBClassifier(),\n",
    "    RandomForestClassifier(),\n",
    "\n",
    "    #Gaussian Processes\n",
    "    GaussianProcessClassifier(),\n",
    "    \n",
    "    #GLM\n",
    "    LogisticRegression(),\n",
    "    PassiveAggressiveClassifier(),\n",
    "    RidgeClassifier(),\n",
    "    SGDClassifier(),\n",
    "    Perceptron(),\n",
    "    \n",
    "    #Navies Bayes\n",
    "    BernoulliNB(),\n",
    "    GaussianNB(),\n",
    "    \n",
    "    #Nearest Neighbor\n",
    "    KNeighborsClassifier(),\n",
    "    \n",
    "    #SVM\n",
    "    SVC(probability=True),\n",
    "    NuSVC(probability=True),\n",
    "    LinearSVC(),\n",
    "    \n",
    "    #Trees    \n",
    "    DecisionTreeClassifier(),\n",
    "    ExtraTreeClassifier()\n",
    "    ]"
   ]
  },
  {
   "cell_type": "code",
   "execution_count": 15,
   "id": "analyzed-security",
   "metadata": {},
   "outputs": [],
   "source": [
    "X = df.drop(['Y'], axis = 1)\n",
    "y = df['Y']"
   ]
  },
  {
   "cell_type": "code",
   "execution_count": 16,
   "id": "desperate-airfare",
   "metadata": {},
   "outputs": [],
   "source": [
    "### Build a dataframe of prediction results, ordered by model accuracy \n",
    "def compare_MLA():\n",
    "    MLA_columns = []\n",
    "    MLA_compare = pd.DataFrame(columns = MLA_columns)\n",
    "    row_index = 0\n",
    "    for alg in MLA:\n",
    "        x_train, x_test, y_train, y_test = train_test_split(X, y, test_size = 0.33, random_state=102)\n",
    "        predicted = alg.fit(x_train, y_train).predict(x_test)\n",
    "        fp, tp, th = roc_curve(y_test, predicted)\n",
    "        MLA_name = alg.__class__.__name__\n",
    "        MLA_compare.loc[row_index,'MLA Name'] = MLA_name\n",
    "        MLA_compare.loc[row_index, 'MLA Train Accuracy'] = round(alg.score(x_train, y_train), 4)\n",
    "        MLA_compare.loc[row_index, 'MLA Test Accuracy'] = round(alg.score(x_test, y_test), 4)\n",
    "        MLA_compare.loc[row_index, 'MLA Precission'] = precision_score(y_test, predicted)\n",
    "        MLA_compare.loc[row_index, 'MLA Recall'] = recall_score(y_test, predicted)\n",
    "        MLA_compare.loc[row_index, 'MLA AUC'] = auc(fp, tp)\n",
    "        row_index+=1\n",
    "    \n",
    "    MLA_compare.sort_values(by = ['MLA Test Accuracy'], ascending = False, inplace = True)    \n",
    "    return MLA_compare"
   ]
  },
  {
   "cell_type": "code",
   "execution_count": 17,
   "id": "fatty-nigeria",
   "metadata": {},
   "outputs": [
    {
     "name": "stdout",
     "output_type": "stream",
     "text": [
      "                     MLA Name  MLA Train Accuracy\n",
      "17     DecisionTreeClassifier              0.9524\n",
      "18        ExtraTreeClassifier              0.9524\n",
      "4      RandomForestClassifier              0.9524\n",
      "2        ExtraTreesClassifier              0.9524\n",
      "3               XGBClassifier              0.9286\n",
      "1           BaggingClassifier              0.9167\n",
      "15                      NuSVC              0.8929\n",
      "5   GaussianProcessClassifier              0.8810\n",
      "13       KNeighborsClassifier              0.7262\n",
      "0          AdaBoostClassifier              0.7143\n"
     ]
    }
   ],
   "source": [
    "## Selecting the best performances in train\n",
    "## The 4 first algorithms are clearly overfitted\n",
    "MLA_compare = compare_MLA()\n",
    "MLA_compare.sort_values(by = ['MLA Train Accuracy'], ascending = False, inplace = True)\n",
    "MLA_compare.head(1)\n",
    "winner_train = pd.DataFrame(MLA_compare.head(10))\n",
    "print(winner_train[['MLA Name', 'MLA Train Accuracy']])"
   ]
  },
  {
   "cell_type": "markdown",
   "id": "filled-hurricane",
   "metadata": {},
   "source": [
    "# Feedback #2\n",
    "## The models with the best performance in train are overfitted, and unable to be used before tunning"
   ]
  },
  {
   "cell_type": "code",
   "execution_count": 18,
   "id": "annoying-planning",
   "metadata": {},
   "outputs": [
    {
     "name": "stdout",
     "output_type": "stream",
     "text": [
      "                       MLA Name  MLA Test Accuracy\n",
      "11                  BernoulliNB             0.6190\n",
      "10                   Perceptron             0.6190\n",
      "7   PassiveAggressiveClassifier             0.5952\n",
      "18          ExtraTreeClassifier             0.5476\n",
      "12                   GaussianNB             0.5476\n",
      "16                    LinearSVC             0.5476\n",
      "6            LogisticRegression             0.5476\n",
      "8               RidgeClassifier             0.5476\n",
      "14                          SVC             0.5476\n",
      "0            AdaBoostClassifier             0.5238\n"
     ]
    }
   ],
   "source": [
    "## Selecting the best performance in test\n",
    "MLA_compare.sort_values(by = ['MLA Test Accuracy'], ascending = False, inplace = True)\n",
    "MLA_compare.head(1)\n",
    "winner_test = pd.DataFrame(MLA_compare.head(10))\n",
    "print(winner_test[['MLA Name', 'MLA Test Accuracy']])"
   ]
  },
  {
   "cell_type": "code",
   "execution_count": 19,
   "id": "apparent-cricket",
   "metadata": {},
   "outputs": [
    {
     "data": {
      "image/png": "[encoded data removed]",
      "text/plain": [
       "<Figure size 432x288 with 1 Axes>"
      ]
     },
     "metadata": {
      "needs_background": "light"
     },
     "output_type": "display_data"
    }
   ],
   "source": [
    "## Roc Curve comparison in test set\n",
    "x_train, x_test, y_train, y_test = train_test_split(X, y, test_size = 0.33, random_state=102)\n",
    "index = 1\n",
    "for alg in MLA:\n",
    "    predicted = alg.fit(x_train, y_train).predict(x_test)\n",
    "    fp, tp, th = roc_curve(y_test, predicted)\n",
    "    roc_auc_mla = auc(fp, tp)\n",
    "    MLA_name = alg.__class__.__name__\n",
    "    plt.plot(fp, tp, lw=2, alpha=0.3, label='ROC %s (AUC = %0.2f)'  % (MLA_name, roc_auc_mla))\n",
    "   \n",
    "    index+=1\n",
    "plt.title('ROC Curve comparison')\n",
    "plt.legend(bbox_to_anchor=(1.05, 1), loc=2, borderaxespad=0.)\n",
    "plt.plot([0,1],[0,1],'r--')\n",
    "plt.xlim([0,1])\n",
    "plt.ylim([0,1])\n",
    "plt.ylabel('True Positive Rate')\n",
    "plt.xlabel('False Positive Rate')    \n",
    "plt.show()"
   ]
  },
  {
   "cell_type": "code",
   "execution_count": 20,
   "id": "found-mason",
   "metadata": {},
   "outputs": [
    {
     "name": "stdout",
     "output_type": "stream",
     "text": [
      "BEFORE tuning Training set score: 0.893\n",
      "BEFORE tuning Test set score: 0.500\n"
     ]
    }
   ],
   "source": [
    "#Select the algorithm to be tuned - Here we can reach the target by tunning, but the model will overfit\n",
    "## Have to manually select from winner in TEST. \n",
    "tunealg = NuSVC()\n",
    "tunealg.fit(x_train, y_train)\n",
    "print(\"BEFORE tuning Training set score: {:.3f}\". format(tunealg.score(x_train, y_train))) \n",
    "print(\"BEFORE tuning Test set score: {:.3f}\". format(tunealg.score(x_test, y_test)))"
   ]
  },
  {
   "cell_type": "markdown",
   "id": "defined-consultation",
   "metadata": {},
   "source": [
    "## Accuracy of the best performance model  in test set could not reach 70%. "
   ]
  },
  {
   "cell_type": "markdown",
   "id": "pressed-alloy",
   "metadata": {},
   "source": [
    "# Why?"
   ]
  },
  {
   "cell_type": "markdown",
   "id": "cleared-lemon",
   "metadata": {},
   "source": [
    "### The classifier doesn't do better than a random choice.There is a risk that there simply is no connection between features and class, exposed by the low correlation above showned.\n",
    "### In cases like this, we need the  business expert who may infer the class based on given features (with an accuracy greater than a random classifier) for us to tune the model. \n",
    "### Usually getting more data rows or changing the classifier won't help to improve the model"
   ]
  },
  {
   "cell_type": "markdown",
   "id": "lucky-female",
   "metadata": {},
   "source": [
    "# Feedback #3"
   ]
  },
  {
   "cell_type": "markdown",
   "id": "undefined-violence",
   "metadata": {},
   "source": [
    "## Explore columns and find ways to improve accuracy with the data we have only"
   ]
  },
  {
   "cell_type": "markdown",
   "id": "stopped-cable",
   "metadata": {},
   "source": [
    "## Feature selection, columns exploration, try and try"
   ]
  },
  {
   "cell_type": "markdown",
   "id": "mathematical-convenience",
   "metadata": {},
   "source": [
    "# Feature Selection"
   ]
  },
  {
   "cell_type": "markdown",
   "id": "close-citizen",
   "metadata": {},
   "source": [
    "### Let´s do feature selection, using FILTER method (bonus) to check if there is some information "
   ]
  },
  {
   "cell_type": "code",
   "execution_count": 21,
   "id": "latin-swing",
   "metadata": {},
   "outputs": [],
   "source": [
    "from sklearn.feature_selection import mutual_info_regression, mutual_info_classif"
   ]
  },
  {
   "cell_type": "code",
   "execution_count": 22,
   "id": "charitable-jason",
   "metadata": {},
   "outputs": [],
   "source": [
    "features = df.copy()"
   ]
  },
  {
   "cell_type": "code",
   "execution_count": 23,
   "id": "governing-integral",
   "metadata": {},
   "outputs": [],
   "source": [
    "## We will apply filter method to select features\n",
    "X = features.drop(\"Y\", axis = 1)\n",
    "y = features['Y']"
   ]
  },
  {
   "cell_type": "code",
   "execution_count": 24,
   "id": "super-zealand",
   "metadata": {},
   "outputs": [],
   "source": [
    "mi = mutual_info_regression(X, y, n_neighbors = 2, random_state = 102)"
   ]
  },
  {
   "cell_type": "code",
   "execution_count": 25,
   "id": "challenging-observation",
   "metadata": {},
   "outputs": [
    {
     "data": {
      "text/plain": [
       "<AxesSubplot:>"
      ]
     },
     "execution_count": 25,
     "metadata": {},
     "output_type": "execute_result"
    },
    {
     "data": {
      "image/png": "[encoded data removed]",
      "text/plain": [
       "<Figure size 720x288 with 1 Axes>"
      ]
     },
     "metadata": {
      "needs_background": "light"
     },
     "output_type": "display_data"
    }
   ],
   "source": [
    "mi = pd.Series(mi)\n",
    "mi.index = X.columns\n",
    "mi.sort_values(ascending=False)\n",
    "mi.sort_values(ascending=False).plot.bar(figsize=(10, 4))"
   ]
  },
  {
   "cell_type": "markdown",
   "id": "computational-insertion",
   "metadata": {},
   "source": [
    "## As we can see the X2 and X4 column could be excluded in next survey"
   ]
  },
  {
   "cell_type": "code",
   "execution_count": 26,
   "id": "greatest-statement",
   "metadata": {},
   "outputs": [],
   "source": [
    "df2 = df.copy()"
   ]
  },
  {
   "cell_type": "code",
   "execution_count": 27,
   "id": "reserved-shore",
   "metadata": {},
   "outputs": [],
   "source": [
    "df2.drop(['X2', 'X4'], axis=1, inplace=True)"
   ]
  },
  {
   "cell_type": "code",
   "execution_count": 28,
   "id": "recognized-weather",
   "metadata": {},
   "outputs": [
    {
     "data": {
      "text/html": [
       "<div>\n",
       "<style scoped>\n",
       "    .dataframe tbody tr th:only-of-type {\n",
       "        vertical-align: middle;\n",
       "    }\n",
       "\n",
       "    .dataframe tbody tr th {\n",
       "        vertical-align: top;\n",
       "    }\n",
       "\n",
       "    .dataframe thead th {\n",
       "        text-align: right;\n",
       "    }\n",
       "</style>\n",
       "<table border=\"1\" class=\"dataframe\">\n",
       "  <thead>\n",
       "    <tr style=\"text-align: right;\">\n",
       "      <th></th>\n",
       "      <th>Y</th>\n",
       "      <th>X1</th>\n",
       "      <th>X3</th>\n",
       "      <th>X5</th>\n",
       "      <th>X6</th>\n",
       "    </tr>\n",
       "  </thead>\n",
       "  <tbody>\n",
       "    <tr>\n",
       "      <th>0</th>\n",
       "      <td>0</td>\n",
       "      <td>3</td>\n",
       "      <td>3</td>\n",
       "      <td>2</td>\n",
       "      <td>4</td>\n",
       "    </tr>\n",
       "    <tr>\n",
       "      <th>1</th>\n",
       "      <td>0</td>\n",
       "      <td>3</td>\n",
       "      <td>3</td>\n",
       "      <td>4</td>\n",
       "      <td>3</td>\n",
       "    </tr>\n",
       "    <tr>\n",
       "      <th>2</th>\n",
       "      <td>1</td>\n",
       "      <td>5</td>\n",
       "      <td>3</td>\n",
       "      <td>3</td>\n",
       "      <td>5</td>\n",
       "    </tr>\n",
       "    <tr>\n",
       "      <th>3</th>\n",
       "      <td>0</td>\n",
       "      <td>5</td>\n",
       "      <td>3</td>\n",
       "      <td>3</td>\n",
       "      <td>5</td>\n",
       "    </tr>\n",
       "    <tr>\n",
       "      <th>4</th>\n",
       "      <td>0</td>\n",
       "      <td>5</td>\n",
       "      <td>3</td>\n",
       "      <td>3</td>\n",
       "      <td>5</td>\n",
       "    </tr>\n",
       "  </tbody>\n",
       "</table>\n",
       "</div>"
      ],
      "text/plain": [
       "   Y  X1  X3  X5  X6\n",
       "0  0   3   3   2   4\n",
       "1  0   3   3   4   3\n",
       "2  1   5   3   3   5\n",
       "3  0   5   3   3   5\n",
       "4  0   5   3   3   5"
      ]
     },
     "execution_count": 28,
     "metadata": {},
     "output_type": "execute_result"
    }
   ],
   "source": [
    "df2.head()"
   ]
  },
  {
   "cell_type": "markdown",
   "id": "raising-comfort",
   "metadata": {},
   "source": [
    "# Feedback #4"
   ]
  },
  {
   "cell_type": "markdown",
   "id": "communist-response",
   "metadata": {},
   "source": [
    "## First call running the models again to check if we have gain in accuracy\n",
    "## Do not consider overfitted models"
   ]
  },
  {
   "cell_type": "code",
   "execution_count": 29,
   "id": "consecutive-spotlight",
   "metadata": {},
   "outputs": [],
   "source": [
    "X = df2.drop(['Y'], axis = 1)\n",
    "y = df2['Y']"
   ]
  },
  {
   "cell_type": "code",
   "execution_count": 30,
   "id": "proper-colleague",
   "metadata": {},
   "outputs": [],
   "source": [
    "first_call = compare_MLA()"
   ]
  },
  {
   "cell_type": "code",
   "execution_count": 31,
   "id": "protective-cookbook",
   "metadata": {},
   "outputs": [
    {
     "name": "stdout",
     "output_type": "stream",
     "text": [
      "                     MLA Name  MLA Train Accuracy\n",
      "1           BaggingClassifier              0.8452\n",
      "4      RandomForestClassifier              0.8452\n",
      "17     DecisionTreeClassifier              0.8452\n",
      "18        ExtraTreeClassifier              0.8452\n",
      "2        ExtraTreesClassifier              0.8452\n",
      "15                      NuSVC              0.8333\n",
      "3               XGBClassifier              0.8214\n",
      "5   GaussianProcessClassifier              0.8095\n",
      "14                        SVC              0.7738\n",
      "13       KNeighborsClassifier              0.7500\n"
     ]
    }
   ],
   "source": [
    "MLA_compare = first_call\n",
    "MLA_compare.sort_values(by = ['MLA Train Accuracy'], ascending = False, inplace = True)\n",
    "MLA_compare.head(1)\n",
    "winner_train = pd.DataFrame(MLA_compare.head(10))\n",
    "print(winner_train[['MLA Name', 'MLA Train Accuracy']])"
   ]
  },
  {
   "cell_type": "code",
   "execution_count": 32,
   "id": "compact-factory",
   "metadata": {},
   "outputs": [],
   "source": [
    "### The results in train got worst"
   ]
  },
  {
   "cell_type": "code",
   "execution_count": 33,
   "id": "smooth-worcester",
   "metadata": {},
   "outputs": [
    {
     "name": "stdout",
     "output_type": "stream",
     "text": [
      "                  MLA Name  MLA Test Accuracy\n",
      "1        BaggingClassifier             0.6190\n",
      "17  DecisionTreeClassifier             0.6190\n",
      "11             BernoulliNB             0.6190\n",
      "9            SGDClassifier             0.6190\n",
      "3            XGBClassifier             0.5952\n",
      "4   RandomForestClassifier             0.5952\n",
      "8          RidgeClassifier             0.5714\n",
      "12              GaussianNB             0.5714\n",
      "16               LinearSVC             0.5714\n",
      "6       LogisticRegression             0.5714\n"
     ]
    }
   ],
   "source": [
    "MLA_compare.sort_values(by = ['MLA Test Accuracy'], ascending = False, inplace = True)\n",
    "MLA_compare.head(1)\n",
    "winner_test = pd.DataFrame(MLA_compare.head(10))\n",
    "print(winner_test[['MLA Name', 'MLA Test Accuracy']])"
   ]
  },
  {
   "cell_type": "code",
   "execution_count": 34,
   "id": "biological-reply",
   "metadata": {},
   "outputs": [],
   "source": [
    "## Without gain in test either"
   ]
  },
  {
   "cell_type": "markdown",
   "id": "peripheral-humanitarian",
   "metadata": {},
   "source": [
    "# Feedback #5\n",
    "\n",
    "## 3 non-overfitted models "
   ]
  },
  {
   "cell_type": "code",
   "execution_count": 35,
   "id": "stuck-mayor",
   "metadata": {},
   "outputs": [],
   "source": [
    "MLA2 = [\n",
    "        KNeighborsClassifier(),\n",
    "        SVC(probability=True),\n",
    "        NuSVC(probability=True),\n",
    "]"
   ]
  },
  {
   "cell_type": "code",
   "execution_count": 36,
   "id": "downtown-civilization",
   "metadata": {},
   "outputs": [],
   "source": [
    "def compare_MLA2():\n",
    "    MLA_columns = []\n",
    "    MLA_compare = pd.DataFrame(columns = MLA_columns)\n",
    "    row_index = 0\n",
    "    for alg in MLA2:\n",
    "        x_train, x_test, y_train, y_test = train_test_split(X, y, test_size = 0.33, random_state=102)\n",
    "        predicted = alg.fit(x_train, y_train).predict(x_test)\n",
    "        fp, tp, th = roc_curve(y_test, predicted)\n",
    "        MLA_name = alg.__class__.__name__\n",
    "        MLA_compare.loc[row_index,'MLA Name'] = MLA_name\n",
    "        MLA_compare.loc[row_index, 'MLA Train Accuracy'] = round(alg.score(x_train, y_train), 4)\n",
    "        MLA_compare.loc[row_index, 'MLA Test Accuracy'] = round(alg.score(x_test, y_test), 4)\n",
    "        MLA_compare.loc[row_index, 'MLA Precission'] = precision_score(y_test, predicted)\n",
    "        MLA_compare.loc[row_index, 'MLA Recall'] = recall_score(y_test, predicted)\n",
    "        MLA_compare.loc[row_index, 'MLA AUC'] = auc(fp, tp)\n",
    "        row_index+=1\n",
    "    \n",
    "    MLA_compare.sort_values(by = ['MLA Test Accuracy'], ascending = False, inplace = True)    \n",
    "    return MLA_compare"
   ]
  },
  {
   "cell_type": "code",
   "execution_count": 37,
   "id": "amateur-excitement",
   "metadata": {},
   "outputs": [
    {
     "data": {
      "text/html": [
       "<div>\n",
       "<style scoped>\n",
       "    .dataframe tbody tr th:only-of-type {\n",
       "        vertical-align: middle;\n",
       "    }\n",
       "\n",
       "    .dataframe tbody tr th {\n",
       "        vertical-align: top;\n",
       "    }\n",
       "\n",
       "    .dataframe thead th {\n",
       "        text-align: right;\n",
       "    }\n",
       "</style>\n",
       "<table border=\"1\" class=\"dataframe\">\n",
       "  <thead>\n",
       "    <tr style=\"text-align: right;\">\n",
       "      <th></th>\n",
       "      <th>MLA Name</th>\n",
       "      <th>MLA Train Accuracy</th>\n",
       "      <th>MLA Test Accuracy</th>\n",
       "      <th>MLA Precission</th>\n",
       "      <th>MLA Recall</th>\n",
       "      <th>MLA AUC</th>\n",
       "    </tr>\n",
       "  </thead>\n",
       "  <tbody>\n",
       "    <tr>\n",
       "      <th>0</th>\n",
       "      <td>KNeighborsClassifier</td>\n",
       "      <td>0.7500</td>\n",
       "      <td>0.5476</td>\n",
       "      <td>0.684211</td>\n",
       "      <td>0.500000</td>\n",
       "      <td>0.562500</td>\n",
       "    </tr>\n",
       "    <tr>\n",
       "      <th>2</th>\n",
       "      <td>NuSVC</td>\n",
       "      <td>0.8333</td>\n",
       "      <td>0.5476</td>\n",
       "      <td>0.666667</td>\n",
       "      <td>0.538462</td>\n",
       "      <td>0.550481</td>\n",
       "    </tr>\n",
       "    <tr>\n",
       "      <th>1</th>\n",
       "      <td>SVC</td>\n",
       "      <td>0.7738</td>\n",
       "      <td>0.4762</td>\n",
       "      <td>0.625000</td>\n",
       "      <td>0.384615</td>\n",
       "      <td>0.504808</td>\n",
       "    </tr>\n",
       "  </tbody>\n",
       "</table>\n",
       "</div>"
      ],
      "text/plain": [
       "               MLA Name  MLA Train Accuracy  MLA Test Accuracy  \\\n",
       "0  KNeighborsClassifier              0.7500             0.5476   \n",
       "2                 NuSVC              0.8333             0.5476   \n",
       "1                   SVC              0.7738             0.4762   \n",
       "\n",
       "   MLA Precission  MLA Recall   MLA AUC  \n",
       "0        0.684211    0.500000  0.562500  \n",
       "2        0.666667    0.538462  0.550481  \n",
       "1        0.625000    0.384615  0.504808  "
      ]
     },
     "execution_count": 37,
     "metadata": {},
     "output_type": "execute_result"
    }
   ],
   "source": [
    "compare_MLA2()"
   ]
  },
  {
   "cell_type": "markdown",
   "id": "intelligent-coffee",
   "metadata": {},
   "source": [
    "# Feedback #6\n",
    "## Explore and manipulate the dataset more"
   ]
  },
  {
   "cell_type": "code",
   "execution_count": 38,
   "id": "illegal-christopher",
   "metadata": {},
   "outputs": [
    {
     "data": {
      "text/html": [
       "<div>\n",
       "<style scoped>\n",
       "    .dataframe tbody tr th:only-of-type {\n",
       "        vertical-align: middle;\n",
       "    }\n",
       "\n",
       "    .dataframe tbody tr th {\n",
       "        vertical-align: top;\n",
       "    }\n",
       "\n",
       "    .dataframe thead th {\n",
       "        text-align: right;\n",
       "    }\n",
       "</style>\n",
       "<table border=\"1\" class=\"dataframe\">\n",
       "  <thead>\n",
       "    <tr style=\"text-align: right;\">\n",
       "      <th></th>\n",
       "      <th>Y</th>\n",
       "      <th>X1</th>\n",
       "      <th>X2</th>\n",
       "      <th>X3</th>\n",
       "      <th>X4</th>\n",
       "      <th>X5</th>\n",
       "      <th>X6</th>\n",
       "    </tr>\n",
       "  </thead>\n",
       "  <tbody>\n",
       "    <tr>\n",
       "      <th>0</th>\n",
       "      <td>0</td>\n",
       "      <td>3</td>\n",
       "      <td>3</td>\n",
       "      <td>3</td>\n",
       "      <td>4</td>\n",
       "      <td>2</td>\n",
       "      <td>4</td>\n",
       "    </tr>\n",
       "    <tr>\n",
       "      <th>1</th>\n",
       "      <td>0</td>\n",
       "      <td>3</td>\n",
       "      <td>2</td>\n",
       "      <td>3</td>\n",
       "      <td>5</td>\n",
       "      <td>4</td>\n",
       "      <td>3</td>\n",
       "    </tr>\n",
       "    <tr>\n",
       "      <th>2</th>\n",
       "      <td>1</td>\n",
       "      <td>5</td>\n",
       "      <td>3</td>\n",
       "      <td>3</td>\n",
       "      <td>3</td>\n",
       "      <td>3</td>\n",
       "      <td>5</td>\n",
       "    </tr>\n",
       "    <tr>\n",
       "      <th>3</th>\n",
       "      <td>0</td>\n",
       "      <td>5</td>\n",
       "      <td>4</td>\n",
       "      <td>3</td>\n",
       "      <td>3</td>\n",
       "      <td>3</td>\n",
       "      <td>5</td>\n",
       "    </tr>\n",
       "    <tr>\n",
       "      <th>4</th>\n",
       "      <td>0</td>\n",
       "      <td>5</td>\n",
       "      <td>4</td>\n",
       "      <td>3</td>\n",
       "      <td>3</td>\n",
       "      <td>3</td>\n",
       "      <td>5</td>\n",
       "    </tr>\n",
       "    <tr>\n",
       "      <th>...</th>\n",
       "      <td>...</td>\n",
       "      <td>...</td>\n",
       "      <td>...</td>\n",
       "      <td>...</td>\n",
       "      <td>...</td>\n",
       "      <td>...</td>\n",
       "      <td>...</td>\n",
       "    </tr>\n",
       "    <tr>\n",
       "      <th>121</th>\n",
       "      <td>1</td>\n",
       "      <td>5</td>\n",
       "      <td>2</td>\n",
       "      <td>3</td>\n",
       "      <td>4</td>\n",
       "      <td>4</td>\n",
       "      <td>3</td>\n",
       "    </tr>\n",
       "    <tr>\n",
       "      <th>122</th>\n",
       "      <td>1</td>\n",
       "      <td>5</td>\n",
       "      <td>2</td>\n",
       "      <td>3</td>\n",
       "      <td>4</td>\n",
       "      <td>2</td>\n",
       "      <td>5</td>\n",
       "    </tr>\n",
       "    <tr>\n",
       "      <th>123</th>\n",
       "      <td>1</td>\n",
       "      <td>5</td>\n",
       "      <td>3</td>\n",
       "      <td>3</td>\n",
       "      <td>4</td>\n",
       "      <td>4</td>\n",
       "      <td>5</td>\n",
       "    </tr>\n",
       "    <tr>\n",
       "      <th>124</th>\n",
       "      <td>0</td>\n",
       "      <td>4</td>\n",
       "      <td>3</td>\n",
       "      <td>3</td>\n",
       "      <td>4</td>\n",
       "      <td>4</td>\n",
       "      <td>5</td>\n",
       "    </tr>\n",
       "    <tr>\n",
       "      <th>125</th>\n",
       "      <td>0</td>\n",
       "      <td>5</td>\n",
       "      <td>3</td>\n",
       "      <td>2</td>\n",
       "      <td>5</td>\n",
       "      <td>5</td>\n",
       "      <td>5</td>\n",
       "    </tr>\n",
       "  </tbody>\n",
       "</table>\n",
       "<p>126 rows × 7 columns</p>\n",
       "</div>"
      ],
      "text/plain": [
       "     Y  X1  X2  X3  X4  X5  X6\n",
       "0    0   3   3   3   4   2   4\n",
       "1    0   3   2   3   5   4   3\n",
       "2    1   5   3   3   3   3   5\n",
       "3    0   5   4   3   3   3   5\n",
       "4    0   5   4   3   3   3   5\n",
       "..  ..  ..  ..  ..  ..  ..  ..\n",
       "121  1   5   2   3   4   4   3\n",
       "122  1   5   2   3   4   2   5\n",
       "123  1   5   3   3   4   4   5\n",
       "124  0   4   3   3   4   4   5\n",
       "125  0   5   3   2   5   5   5\n",
       "\n",
       "[126 rows x 7 columns]"
      ]
     },
     "execution_count": 38,
     "metadata": {},
     "output_type": "execute_result"
    }
   ],
   "source": [
    "df"
   ]
  },
  {
   "cell_type": "markdown",
   "id": "detected-feature",
   "metadata": {},
   "source": [
    "## Check if Normalize + feature selection gains accuracy"
   ]
  },
  {
   "cell_type": "code",
   "execution_count": 39,
   "id": "documented-humor",
   "metadata": {},
   "outputs": [],
   "source": [
    "x = df.values \n",
    "min_max_scaler = preprocessing.MinMaxScaler() \n",
    "x_scaled = min_max_scaler.fit_transform(x) \n",
    "scaled = pd.DataFrame(x_scaled) \n",
    "scaled.columns = df.columns"
   ]
  },
  {
   "cell_type": "code",
   "execution_count": 40,
   "id": "assured-branch",
   "metadata": {},
   "outputs": [],
   "source": [
    "X = df.drop(\"Y\", axis = 1)\n",
    "y = df['Y']"
   ]
  },
  {
   "cell_type": "code",
   "execution_count": 41,
   "id": "herbal-psychology",
   "metadata": {},
   "outputs": [],
   "source": [
    "mi = mutual_info_regression(X, y, n_neighbors = 2, random_state = 102)"
   ]
  },
  {
   "cell_type": "code",
   "execution_count": 42,
   "id": "elegant-imagination",
   "metadata": {},
   "outputs": [
    {
     "data": {
      "text/plain": [
       "<AxesSubplot:>"
      ]
     },
     "execution_count": 42,
     "metadata": {},
     "output_type": "execute_result"
    },
    {
     "data": {
      "image/png": "[encoded data removed]",
      "text/plain": [
       "<Figure size 720x288 with 1 Axes>"
      ]
     },
     "metadata": {
      "needs_background": "light"
     },
     "output_type": "display_data"
    }
   ],
   "source": [
    "mi = pd.Series(mi)\n",
    "mi.index = X.columns\n",
    "mi.sort_values(ascending=False)\n",
    "mi.sort_values(ascending=False).plot.bar(figsize=(10, 4))"
   ]
  },
  {
   "cell_type": "code",
   "execution_count": 43,
   "id": "convenient-queue",
   "metadata": {},
   "outputs": [],
   "source": [
    "df2 = df.copy()"
   ]
  },
  {
   "cell_type": "code",
   "execution_count": 45,
   "id": "cardiovascular-miami",
   "metadata": {},
   "outputs": [],
   "source": [
    "df2.drop(['X2', 'X4'], axis=1, inplace=True)"
   ]
  },
  {
   "cell_type": "code",
   "execution_count": 46,
   "id": "blind-pacific",
   "metadata": {},
   "outputs": [],
   "source": [
    "X = df2.drop(\"Y\", axis = 1)\n",
    "y = df2['Y']"
   ]
  },
  {
   "cell_type": "code",
   "execution_count": 47,
   "id": "bored-candle",
   "metadata": {},
   "outputs": [
    {
     "data": {
      "text/html": [
       "<div>\n",
       "<style scoped>\n",
       "    .dataframe tbody tr th:only-of-type {\n",
       "        vertical-align: middle;\n",
       "    }\n",
       "\n",
       "    .dataframe tbody tr th {\n",
       "        vertical-align: top;\n",
       "    }\n",
       "\n",
       "    .dataframe thead th {\n",
       "        text-align: right;\n",
       "    }\n",
       "</style>\n",
       "<table border=\"1\" class=\"dataframe\">\n",
       "  <thead>\n",
       "    <tr style=\"text-align: right;\">\n",
       "      <th></th>\n",
       "      <th>MLA Name</th>\n",
       "      <th>MLA Train Accuracy</th>\n",
       "      <th>MLA Test Accuracy</th>\n",
       "      <th>MLA Precission</th>\n",
       "      <th>MLA Recall</th>\n",
       "      <th>MLA AUC</th>\n",
       "    </tr>\n",
       "  </thead>\n",
       "  <tbody>\n",
       "    <tr>\n",
       "      <th>0</th>\n",
       "      <td>KNeighborsClassifier</td>\n",
       "      <td>0.7500</td>\n",
       "      <td>0.5476</td>\n",
       "      <td>0.684211</td>\n",
       "      <td>0.500000</td>\n",
       "      <td>0.562500</td>\n",
       "    </tr>\n",
       "    <tr>\n",
       "      <th>2</th>\n",
       "      <td>NuSVC</td>\n",
       "      <td>0.8333</td>\n",
       "      <td>0.5476</td>\n",
       "      <td>0.666667</td>\n",
       "      <td>0.538462</td>\n",
       "      <td>0.550481</td>\n",
       "    </tr>\n",
       "    <tr>\n",
       "      <th>1</th>\n",
       "      <td>SVC</td>\n",
       "      <td>0.7738</td>\n",
       "      <td>0.4762</td>\n",
       "      <td>0.625000</td>\n",
       "      <td>0.384615</td>\n",
       "      <td>0.504808</td>\n",
       "    </tr>\n",
       "  </tbody>\n",
       "</table>\n",
       "</div>"
      ],
      "text/plain": [
       "               MLA Name  MLA Train Accuracy  MLA Test Accuracy  \\\n",
       "0  KNeighborsClassifier              0.7500             0.5476   \n",
       "2                 NuSVC              0.8333             0.5476   \n",
       "1                   SVC              0.7738             0.4762   \n",
       "\n",
       "   MLA Precission  MLA Recall   MLA AUC  \n",
       "0        0.684211    0.500000  0.562500  \n",
       "2        0.666667    0.538462  0.550481  \n",
       "1        0.625000    0.384615  0.504808  "
      ]
     },
     "execution_count": 47,
     "metadata": {},
     "output_type": "execute_result"
    }
   ],
   "source": [
    "compare_MLA2()"
   ]
  },
  {
   "cell_type": "markdown",
   "id": "american-young",
   "metadata": {},
   "source": [
    "## The results got worse"
   ]
  },
  {
   "cell_type": "code",
   "execution_count": 49,
   "id": "changed-costs",
   "metadata": {},
   "outputs": [
    {
     "data": {
      "text/html": [
       "<div>\n",
       "<style scoped>\n",
       "    .dataframe tbody tr th:only-of-type {\n",
       "        vertical-align: middle;\n",
       "    }\n",
       "\n",
       "    .dataframe tbody tr th {\n",
       "        vertical-align: top;\n",
       "    }\n",
       "\n",
       "    .dataframe thead th {\n",
       "        text-align: right;\n",
       "    }\n",
       "</style>\n",
       "<table border=\"1\" class=\"dataframe\">\n",
       "  <thead>\n",
       "    <tr style=\"text-align: right;\">\n",
       "      <th></th>\n",
       "      <th>Y</th>\n",
       "      <th>X1</th>\n",
       "      <th>X2</th>\n",
       "      <th>X3</th>\n",
       "      <th>X4</th>\n",
       "      <th>X5</th>\n",
       "      <th>X6</th>\n",
       "    </tr>\n",
       "  </thead>\n",
       "  <tbody>\n",
       "    <tr>\n",
       "      <th>0</th>\n",
       "      <td>0</td>\n",
       "      <td>3</td>\n",
       "      <td>3</td>\n",
       "      <td>3</td>\n",
       "      <td>4</td>\n",
       "      <td>2</td>\n",
       "      <td>4</td>\n",
       "    </tr>\n",
       "    <tr>\n",
       "      <th>1</th>\n",
       "      <td>0</td>\n",
       "      <td>3</td>\n",
       "      <td>2</td>\n",
       "      <td>3</td>\n",
       "      <td>5</td>\n",
       "      <td>4</td>\n",
       "      <td>3</td>\n",
       "    </tr>\n",
       "    <tr>\n",
       "      <th>2</th>\n",
       "      <td>1</td>\n",
       "      <td>5</td>\n",
       "      <td>3</td>\n",
       "      <td>3</td>\n",
       "      <td>3</td>\n",
       "      <td>3</td>\n",
       "      <td>5</td>\n",
       "    </tr>\n",
       "    <tr>\n",
       "      <th>3</th>\n",
       "      <td>0</td>\n",
       "      <td>5</td>\n",
       "      <td>4</td>\n",
       "      <td>3</td>\n",
       "      <td>3</td>\n",
       "      <td>3</td>\n",
       "      <td>5</td>\n",
       "    </tr>\n",
       "    <tr>\n",
       "      <th>4</th>\n",
       "      <td>0</td>\n",
       "      <td>5</td>\n",
       "      <td>4</td>\n",
       "      <td>3</td>\n",
       "      <td>3</td>\n",
       "      <td>3</td>\n",
       "      <td>5</td>\n",
       "    </tr>\n",
       "    <tr>\n",
       "      <th>...</th>\n",
       "      <td>...</td>\n",
       "      <td>...</td>\n",
       "      <td>...</td>\n",
       "      <td>...</td>\n",
       "      <td>...</td>\n",
       "      <td>...</td>\n",
       "      <td>...</td>\n",
       "    </tr>\n",
       "    <tr>\n",
       "      <th>121</th>\n",
       "      <td>1</td>\n",
       "      <td>5</td>\n",
       "      <td>2</td>\n",
       "      <td>3</td>\n",
       "      <td>4</td>\n",
       "      <td>4</td>\n",
       "      <td>3</td>\n",
       "    </tr>\n",
       "    <tr>\n",
       "      <th>122</th>\n",
       "      <td>1</td>\n",
       "      <td>5</td>\n",
       "      <td>2</td>\n",
       "      <td>3</td>\n",
       "      <td>4</td>\n",
       "      <td>2</td>\n",
       "      <td>5</td>\n",
       "    </tr>\n",
       "    <tr>\n",
       "      <th>123</th>\n",
       "      <td>1</td>\n",
       "      <td>5</td>\n",
       "      <td>3</td>\n",
       "      <td>3</td>\n",
       "      <td>4</td>\n",
       "      <td>4</td>\n",
       "      <td>5</td>\n",
       "    </tr>\n",
       "    <tr>\n",
       "      <th>124</th>\n",
       "      <td>0</td>\n",
       "      <td>4</td>\n",
       "      <td>3</td>\n",
       "      <td>3</td>\n",
       "      <td>4</td>\n",
       "      <td>4</td>\n",
       "      <td>5</td>\n",
       "    </tr>\n",
       "    <tr>\n",
       "      <th>125</th>\n",
       "      <td>0</td>\n",
       "      <td>5</td>\n",
       "      <td>3</td>\n",
       "      <td>2</td>\n",
       "      <td>5</td>\n",
       "      <td>5</td>\n",
       "      <td>5</td>\n",
       "    </tr>\n",
       "  </tbody>\n",
       "</table>\n",
       "<p>126 rows × 7 columns</p>\n",
       "</div>"
      ],
      "text/plain": [
       "     Y  X1  X2  X3  X4  X5  X6\n",
       "0    0   3   3   3   4   2   4\n",
       "1    0   3   2   3   5   4   3\n",
       "2    1   5   3   3   3   3   5\n",
       "3    0   5   4   3   3   3   5\n",
       "4    0   5   4   3   3   3   5\n",
       "..  ..  ..  ..  ..  ..  ..  ..\n",
       "121  1   5   2   3   4   4   3\n",
       "122  1   5   2   3   4   2   5\n",
       "123  1   5   3   3   4   4   5\n",
       "124  0   4   3   3   4   4   5\n",
       "125  0   5   3   2   5   5   5\n",
       "\n",
       "[126 rows x 7 columns]"
      ]
     },
     "execution_count": 49,
     "metadata": {},
     "output_type": "execute_result"
    }
   ],
   "source": [
    "df"
   ]
  },
  {
   "cell_type": "code",
   "execution_count": 51,
   "id": "numeric-header",
   "metadata": {},
   "outputs": [],
   "source": [
    "## Try again"
   ]
  },
  {
   "cell_type": "code",
   "execution_count": 52,
   "id": "enabling-moore",
   "metadata": {},
   "outputs": [],
   "source": [
    "X = df.drop(\"Y\", axis = 1)\n",
    "y = df['Y']"
   ]
  },
  {
   "cell_type": "code",
   "execution_count": 53,
   "id": "needed-onion",
   "metadata": {},
   "outputs": [
    {
     "data": {
      "text/html": [
       "<div>\n",
       "<style scoped>\n",
       "    .dataframe tbody tr th:only-of-type {\n",
       "        vertical-align: middle;\n",
       "    }\n",
       "\n",
       "    .dataframe tbody tr th {\n",
       "        vertical-align: top;\n",
       "    }\n",
       "\n",
       "    .dataframe thead th {\n",
       "        text-align: right;\n",
       "    }\n",
       "</style>\n",
       "<table border=\"1\" class=\"dataframe\">\n",
       "  <thead>\n",
       "    <tr style=\"text-align: right;\">\n",
       "      <th></th>\n",
       "      <th>MLA Name</th>\n",
       "      <th>MLA Train Accuracy</th>\n",
       "      <th>MLA Test Accuracy</th>\n",
       "      <th>MLA Precission</th>\n",
       "      <th>MLA Recall</th>\n",
       "      <th>MLA AUC</th>\n",
       "    </tr>\n",
       "  </thead>\n",
       "  <tbody>\n",
       "    <tr>\n",
       "      <th>1</th>\n",
       "      <td>SVC</td>\n",
       "      <td>0.7024</td>\n",
       "      <td>0.5476</td>\n",
       "      <td>0.684211</td>\n",
       "      <td>0.500000</td>\n",
       "      <td>0.562500</td>\n",
       "    </tr>\n",
       "    <tr>\n",
       "      <th>0</th>\n",
       "      <td>KNeighborsClassifier</td>\n",
       "      <td>0.7262</td>\n",
       "      <td>0.5238</td>\n",
       "      <td>0.600000</td>\n",
       "      <td>0.692308</td>\n",
       "      <td>0.471154</td>\n",
       "    </tr>\n",
       "    <tr>\n",
       "      <th>2</th>\n",
       "      <td>NuSVC</td>\n",
       "      <td>0.8929</td>\n",
       "      <td>0.5000</td>\n",
       "      <td>0.631579</td>\n",
       "      <td>0.461538</td>\n",
       "      <td>0.512019</td>\n",
       "    </tr>\n",
       "  </tbody>\n",
       "</table>\n",
       "</div>"
      ],
      "text/plain": [
       "               MLA Name  MLA Train Accuracy  MLA Test Accuracy  \\\n",
       "1                   SVC              0.7024             0.5476   \n",
       "0  KNeighborsClassifier              0.7262             0.5238   \n",
       "2                 NuSVC              0.8929             0.5000   \n",
       "\n",
       "   MLA Precission  MLA Recall   MLA AUC  \n",
       "1        0.684211    0.500000  0.562500  \n",
       "0        0.600000    0.692308  0.471154  \n",
       "2        0.631579    0.461538  0.512019  "
      ]
     },
     "execution_count": 53,
     "metadata": {},
     "output_type": "execute_result"
    }
   ],
   "source": [
    "compare_MLA2()"
   ]
  },
  {
   "cell_type": "markdown",
   "id": "accessory-agreement",
   "metadata": {},
   "source": [
    "## Same accuracy with or without X2 and X4 columns"
   ]
  },
  {
   "cell_type": "code",
   "execution_count": 54,
   "id": "fourth-marble",
   "metadata": {},
   "outputs": [],
   "source": [
    "## Exploring columns"
   ]
  },
  {
   "cell_type": "code",
   "execution_count": 55,
   "id": "sticky-northeast",
   "metadata": {},
   "outputs": [
    {
     "data": {
      "text/plain": [
       "<AxesSubplot:>"
      ]
     },
     "execution_count": 55,
     "metadata": {},
     "output_type": "execute_result"
    },
    {
     "data": {
      "image/png": "[encoded data removed]",
      "text/plain": [
       "<Figure size 432x288 with 1 Axes>"
      ]
     },
     "metadata": {
      "needs_background": "light"
     },
     "output_type": "display_data"
    }
   ],
   "source": [
    "df['X1'].value_counts().plot.bar()"
   ]
  },
  {
   "cell_type": "code",
   "execution_count": 56,
   "id": "protected-satisfaction",
   "metadata": {},
   "outputs": [
    {
     "data": {
      "text/plain": [
       "<AxesSubplot:>"
      ]
     },
     "execution_count": 56,
     "metadata": {},
     "output_type": "execute_result"
    },
    {
     "data": {
      "image/png": "[encoded data removed]",
      "text/plain": [
       "<Figure size 432x288 with 1 Axes>"
      ]
     },
     "metadata": {
      "needs_background": "light"
     },
     "output_type": "display_data"
    }
   ],
   "source": [
    "df['X3'].value_counts().plot.bar()"
   ]
  },
  {
   "cell_type": "code",
   "execution_count": 57,
   "id": "romance-combat",
   "metadata": {},
   "outputs": [
    {
     "data": {
      "text/plain": [
       "<AxesSubplot:>"
      ]
     },
     "execution_count": 57,
     "metadata": {},
     "output_type": "execute_result"
    },
    {
     "data": {
      "image/png": "[encoded data removed]",
      "text/plain": [
       "<Figure size 432x288 with 1 Axes>"
      ]
     },
     "metadata": {
      "needs_background": "light"
     },
     "output_type": "display_data"
    }
   ],
   "source": [
    "df['X5'].value_counts().plot.bar()"
   ]
  },
  {
   "cell_type": "code",
   "execution_count": 58,
   "id": "compressed-research",
   "metadata": {},
   "outputs": [
    {
     "data": {
      "text/plain": [
       "<AxesSubplot:>"
      ]
     },
     "execution_count": 58,
     "metadata": {},
     "output_type": "execute_result"
    },
    {
     "data": {
      "image/png": "[encoded data removed]",
      "text/plain": [
       "<Figure size 432x288 with 1 Axes>"
      ]
     },
     "metadata": {
      "needs_background": "light"
     },
     "output_type": "display_data"
    }
   ],
   "source": [
    "df['X6'].value_counts().plot.bar()"
   ]
  },
  {
   "cell_type": "code",
   "execution_count": null,
   "id": "usual-spring",
   "metadata": {},
   "outputs": [],
   "source": []
  },
  {
   "cell_type": "code",
   "execution_count": null,
   "id": "average-qatar",
   "metadata": {},
   "outputs": [],
   "source": []
  },
  {
   "cell_type": "code",
   "execution_count": null,
   "id": "premier-mission",
   "metadata": {},
   "outputs": [],
   "source": []
  },
  {
   "cell_type": "code",
   "execution_count": null,
   "id": "pressed-brown",
   "metadata": {},
   "outputs": [],
   "source": []
  },
  {
   "cell_type": "code",
   "execution_count": null,
   "id": "blocked-alias",
   "metadata": {},
   "outputs": [],
   "source": []
  }
 ],
 "metadata": {
  "kernelspec": {
   "display_name": "Python 3",
   "language": "python",
   "name": "python3"
  },
  "language_info": {
   "codemirror_mode": {
    "name": "ipython",
    "version": 3
   },
   "file_extension": ".py",
   "mimetype": "text/x-python",
   "name": "python",
   "nbconvert_exporter": "python",
   "pygments_lexer": "ipython3",
   "version": "3.7.10"
  }
 },
 "nbformat": 4,
 "nbformat_minor": 5
}
